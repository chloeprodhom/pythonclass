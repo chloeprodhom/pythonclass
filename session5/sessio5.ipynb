{
 "cells": [
  {
   "cell_type": "markdown",
   "metadata": {},
   "source": [
    "Hoy profundisaremos el tema de los numpy array y veremos un poco mas como se puede utilizar las regresiones."
   ]
  },
  {
   "cell_type": "code",
   "execution_count": 1,
   "metadata": {},
   "outputs": [],
   "source": [
    "#import netcdf library\n",
    "from netCDF4 import Dataset as nc \n",
    "#import date conversor netcdf\n",
    "from netCDF4 import num2date, date2num \n",
    "from datetime import date, timedelta, datetime\n",
    "import numpy as np\n",
    "import os\n",
    "from scipy import stats\n",
    "import sys"
   ]
  },
  {
   "cell_type": "code",
   "execution_count": 2,
   "metadata": {},
   "outputs": [],
   "source": [
    "#definimos una funcion que coge en argumento un fichiero unas latitude y longitude \n",
    "#y devuelve los datos correspondientes\n",
    "def readregion(file, varname, lon_bnds, lat_bnds):\n",
    "    \"\"\"funcion que lee los datos 3D en una region\n",
    "    filename: path de un fichiero netcdf\n",
    "    varname: nombre de la variable\n",
    "    lon_bnds: array, list o tuple que contiene los limites de la caja a selecionar\n",
    "    lat_bnds: array, list o tuple que contiene los limites de la caja a selecionar\n",
    "    return: var, time, lon, lat\n",
    "    \"\"\"\n",
    "    \n",
    "    #empezamos por leer el fichiero ncep de t2m global\n",
    "    try :\n",
    "        file = nc(filename, \"r\") # open the netcdf file \n",
    "    except:\n",
    "        print(\"el fichiero \"+filename+\" no existe.\")\n",
    "        sys.exit(1)\n",
    "    #leer time axis\n",
    "    if \"time\" in file.variables.keys():\n",
    "        timevar = file.variables[\"time\"]\n",
    "    else:\n",
    "        print(\"no variable time in the file\")\n",
    "        sys.exit(1)\n",
    "        \n",
    "    dates = num2date(timevar[:], units=timevar.units) \n",
    "    #leer longitude\n",
    "    if \"lon\" in file.variables.keys():    \n",
    "        lon = file.variables[\"lon\"][:]\n",
    "    else:\n",
    "        print(\"no variable lon in the file\")\n",
    "        sys.exit(1)\n",
    "    #leer latitude\n",
    "    if \"lat\" in file.variables.keys():    \n",
    "        lat = file.variables[\"lat\"][:]\n",
    "    else:\n",
    "        print(\"no variable lat in the file\")\n",
    "        sys.exit(1)\n",
    "    #check the existence and the dimension of varname\n",
    "    if not(varname in file.variables.keys()):\n",
    "        print(\"no variable \"+varname+\" in the file\")\n",
    "        sys.exit(1)\n",
    "    elif len(file.variables[varname].shape)!=3:\n",
    "        print(\"This function is done to read varable of size 3\")\n",
    "        sys.exit(1)\n",
    "        \n",
    "    #convitimos las listas en numpy array \n",
    "    lon_bnds = np.array(lon_bnds)\n",
    "    lat_bnds = np.array(lat_bnds)\n",
    "    # if longitude is written in negative convert it in value from 0 to 360 \n",
    "    #(if it is consistent with the longitude of the file we want to read)\n",
    "    #print(lon)\n",
    "    lon_bnds = (lon_bnds + 360)%360\n",
    "    #print(lon_bnds)\n",
    "    #latitude correspondientes a la caja\n",
    "    latbox = np.where((lat > lat_bnds[0])&(lat<lat_bnds[1]))[0]\n",
    "    lat = lat[latbox]\n",
    "        \n",
    "    if lon_bnds[0]>lon_bnds[1]:\n",
    "        #print(\"I am here\")\n",
    "        #calculamos los limites de la caja al oeste de greenwitch\n",
    "        lonbox1 = np.where((lon >= lon_bnds[0]))[0]\n",
    "        #calculamos los limites de la caja al este de greenwitch\n",
    "        lonbox2 = np.where((lon <= lon_bnds[1]))[0]\n",
    "        #extraemos los datos del oeste de greenwitch\n",
    "        var1 = file.variables[varname][:,latbox,lonbox1]\n",
    "        #extraemos los datos del este de greenwitch\n",
    "        var2 = file.variables[varname][:,latbox,lonbox2]\n",
    "        #juntamos los dos cajas\n",
    "        var = np.concatenate((var1, var2), axis = 2)\n",
    "        lon = np.concatenate((lon[lonbox1], lon[lonbox2]), axis = 0)\n",
    "    else:\n",
    "        lonbox = np.where((lon >= lon_bnds[0]) & (lon <= lon_bnds[1]))[0]\n",
    "        lon = lon[lonbox]\n",
    "        var = file.variables[varname][:,latbox,lonbox]\n",
    "    return(var, dates, lon, lat)"
   ]
  },
  {
   "cell_type": "markdown",
   "metadata": {},
   "source": [
    "Utilizar esta funcion para leer los datos de temperatura en europa."
   ]
  },
  {
   "cell_type": "code",
   "execution_count": 3,
   "metadata": {},
   "outputs": [],
   "source": [
    "lon_bnds = [-20, 40]\n",
    "lat_bnds = [30, 80]\n",
    "urlbase = \"https://www.esrl.noaa.gov/psd/thredds/dodsC/Datasets/ncep.reanalysis.derived/surface/\"\n",
    "filename = urlbase+\"air.mon.mean.nc\" \n",
    "t2m, dates, lon, lat = readregion(filename, \"air\", lon_bnds, lat_bnds)"
   ]
  },
  {
   "cell_type": "code",
   "execution_count": 4,
   "metadata": {},
   "outputs": [
    {
     "data": {
      "text/plain": [
       "(862, 19, 25)"
      ]
     },
     "execution_count": 4,
     "metadata": {},
     "output_type": "execute_result"
    }
   ],
   "source": [
    "t2m.shape"
   ]
  },
  {
   "cell_type": "markdown",
   "metadata": {},
   "source": [
    "Calcular la climatologia de estos datos, (es decir un numpy array de dimension 12meses x nlat x nlon)"
   ]
  },
  {
   "cell_type": "markdown",
   "metadata": {},
   "source": [
    "1) comprovamos que tenemos solo años enteros"
   ]
  },
  {
   "cell_type": "code",
   "execution_count": 5,
   "metadata": {},
   "outputs": [
    {
     "data": {
      "text/plain": [
       "array([datetime.datetime(1948, 1, 1, 0, 0),\n",
       "       datetime.datetime(1948, 2, 1, 0, 0),\n",
       "       datetime.datetime(1948, 3, 1, 0, 0),\n",
       "       datetime.datetime(1948, 4, 1, 0, 0),\n",
       "       datetime.datetime(1948, 5, 1, 0, 0),\n",
       "       datetime.datetime(1948, 6, 1, 0, 0),\n",
       "       datetime.datetime(1948, 7, 1, 0, 0),\n",
       "       datetime.datetime(1948, 8, 1, 0, 0),\n",
       "       datetime.datetime(1948, 9, 1, 0, 0),\n",
       "       datetime.datetime(1948, 10, 1, 0, 0),\n",
       "       datetime.datetime(1948, 11, 1, 0, 0),\n",
       "       datetime.datetime(1948, 12, 1, 0, 0),\n",
       "       datetime.datetime(1949, 1, 1, 0, 0),\n",
       "       datetime.datetime(1949, 2, 1, 0, 0),\n",
       "       datetime.datetime(1949, 3, 1, 0, 0),\n",
       "       datetime.datetime(1949, 4, 1, 0, 0),\n",
       "       datetime.datetime(1949, 5, 1, 0, 0),\n",
       "       datetime.datetime(1949, 6, 1, 0, 0),\n",
       "       datetime.datetime(1949, 7, 1, 0, 0),\n",
       "       datetime.datetime(1949, 8, 1, 0, 0),\n",
       "       datetime.datetime(1949, 9, 1, 0, 0),\n",
       "       datetime.datetime(1949, 10, 1, 0, 0),\n",
       "       datetime.datetime(1949, 11, 1, 0, 0),\n",
       "       datetime.datetime(1949, 12, 1, 0, 0),\n",
       "       datetime.datetime(1950, 1, 1, 0, 0),\n",
       "       datetime.datetime(1950, 2, 1, 0, 0),\n",
       "       datetime.datetime(1950, 3, 1, 0, 0),\n",
       "       datetime.datetime(1950, 4, 1, 0, 0),\n",
       "       datetime.datetime(1950, 5, 1, 0, 0),\n",
       "       datetime.datetime(1950, 6, 1, 0, 0),\n",
       "       datetime.datetime(1950, 7, 1, 0, 0),\n",
       "       datetime.datetime(1950, 8, 1, 0, 0),\n",
       "       datetime.datetime(1950, 9, 1, 0, 0),\n",
       "       datetime.datetime(1950, 10, 1, 0, 0),\n",
       "       datetime.datetime(1950, 11, 1, 0, 0),\n",
       "       datetime.datetime(1950, 12, 1, 0, 0),\n",
       "       datetime.datetime(1951, 1, 1, 0, 0),\n",
       "       datetime.datetime(1951, 2, 1, 0, 0),\n",
       "       datetime.datetime(1951, 3, 1, 0, 0),\n",
       "       datetime.datetime(1951, 4, 1, 0, 0),\n",
       "       datetime.datetime(1951, 5, 1, 0, 0),\n",
       "       datetime.datetime(1951, 6, 1, 0, 0),\n",
       "       datetime.datetime(1951, 7, 1, 0, 0),\n",
       "       datetime.datetime(1951, 8, 1, 0, 0),\n",
       "       datetime.datetime(1951, 9, 1, 0, 0),\n",
       "       datetime.datetime(1951, 10, 1, 0, 0),\n",
       "       datetime.datetime(1951, 11, 1, 0, 0),\n",
       "       datetime.datetime(1951, 12, 1, 0, 0),\n",
       "       datetime.datetime(1952, 1, 1, 0, 0),\n",
       "       datetime.datetime(1952, 2, 1, 0, 0),\n",
       "       datetime.datetime(1952, 3, 1, 0, 0),\n",
       "       datetime.datetime(1952, 4, 1, 0, 0),\n",
       "       datetime.datetime(1952, 5, 1, 0, 0),\n",
       "       datetime.datetime(1952, 6, 1, 0, 0),\n",
       "       datetime.datetime(1952, 7, 1, 0, 0),\n",
       "       datetime.datetime(1952, 8, 1, 0, 0),\n",
       "       datetime.datetime(1952, 9, 1, 0, 0),\n",
       "       datetime.datetime(1952, 10, 1, 0, 0),\n",
       "       datetime.datetime(1952, 11, 1, 0, 0),\n",
       "       datetime.datetime(1952, 12, 1, 0, 0),\n",
       "       datetime.datetime(1953, 1, 1, 0, 0),\n",
       "       datetime.datetime(1953, 2, 1, 0, 0),\n",
       "       datetime.datetime(1953, 3, 1, 0, 0),\n",
       "       datetime.datetime(1953, 4, 1, 0, 0),\n",
       "       datetime.datetime(1953, 5, 1, 0, 0),\n",
       "       datetime.datetime(1953, 6, 1, 0, 0),\n",
       "       datetime.datetime(1953, 7, 1, 0, 0),\n",
       "       datetime.datetime(1953, 8, 1, 0, 0),\n",
       "       datetime.datetime(1953, 9, 1, 0, 0),\n",
       "       datetime.datetime(1953, 10, 1, 0, 0),\n",
       "       datetime.datetime(1953, 11, 1, 0, 0),\n",
       "       datetime.datetime(1953, 12, 1, 0, 0),\n",
       "       datetime.datetime(1954, 1, 1, 0, 0),\n",
       "       datetime.datetime(1954, 2, 1, 0, 0),\n",
       "       datetime.datetime(1954, 3, 1, 0, 0),\n",
       "       datetime.datetime(1954, 4, 1, 0, 0),\n",
       "       datetime.datetime(1954, 5, 1, 0, 0),\n",
       "       datetime.datetime(1954, 6, 1, 0, 0),\n",
       "       datetime.datetime(1954, 7, 1, 0, 0),\n",
       "       datetime.datetime(1954, 8, 1, 0, 0),\n",
       "       datetime.datetime(1954, 9, 1, 0, 0),\n",
       "       datetime.datetime(1954, 10, 1, 0, 0),\n",
       "       datetime.datetime(1954, 11, 1, 0, 0),\n",
       "       datetime.datetime(1954, 12, 1, 0, 0),\n",
       "       datetime.datetime(1955, 1, 1, 0, 0),\n",
       "       datetime.datetime(1955, 2, 1, 0, 0),\n",
       "       datetime.datetime(1955, 3, 1, 0, 0),\n",
       "       datetime.datetime(1955, 4, 1, 0, 0),\n",
       "       datetime.datetime(1955, 5, 1, 0, 0),\n",
       "       datetime.datetime(1955, 6, 1, 0, 0),\n",
       "       datetime.datetime(1955, 7, 1, 0, 0),\n",
       "       datetime.datetime(1955, 8, 1, 0, 0),\n",
       "       datetime.datetime(1955, 9, 1, 0, 0),\n",
       "       datetime.datetime(1955, 10, 1, 0, 0),\n",
       "       datetime.datetime(1955, 11, 1, 0, 0),\n",
       "       datetime.datetime(1955, 12, 1, 0, 0),\n",
       "       datetime.datetime(1956, 1, 1, 0, 0),\n",
       "       datetime.datetime(1956, 2, 1, 0, 0),\n",
       "       datetime.datetime(1956, 3, 1, 0, 0),\n",
       "       datetime.datetime(1956, 4, 1, 0, 0),\n",
       "       datetime.datetime(1956, 5, 1, 0, 0),\n",
       "       datetime.datetime(1956, 6, 1, 0, 0),\n",
       "       datetime.datetime(1956, 7, 1, 0, 0),\n",
       "       datetime.datetime(1956, 8, 1, 0, 0),\n",
       "       datetime.datetime(1956, 9, 1, 0, 0),\n",
       "       datetime.datetime(1956, 10, 1, 0, 0),\n",
       "       datetime.datetime(1956, 11, 1, 0, 0),\n",
       "       datetime.datetime(1956, 12, 1, 0, 0),\n",
       "       datetime.datetime(1957, 1, 1, 0, 0),\n",
       "       datetime.datetime(1957, 2, 1, 0, 0),\n",
       "       datetime.datetime(1957, 3, 1, 0, 0),\n",
       "       datetime.datetime(1957, 4, 1, 0, 0),\n",
       "       datetime.datetime(1957, 5, 1, 0, 0),\n",
       "       datetime.datetime(1957, 6, 1, 0, 0),\n",
       "       datetime.datetime(1957, 7, 1, 0, 0),\n",
       "       datetime.datetime(1957, 8, 1, 0, 0),\n",
       "       datetime.datetime(1957, 9, 1, 0, 0),\n",
       "       datetime.datetime(1957, 10, 1, 0, 0),\n",
       "       datetime.datetime(1957, 11, 1, 0, 0),\n",
       "       datetime.datetime(1957, 12, 1, 0, 0),\n",
       "       datetime.datetime(1958, 1, 1, 0, 0),\n",
       "       datetime.datetime(1958, 2, 1, 0, 0),\n",
       "       datetime.datetime(1958, 3, 1, 0, 0),\n",
       "       datetime.datetime(1958, 4, 1, 0, 0),\n",
       "       datetime.datetime(1958, 5, 1, 0, 0),\n",
       "       datetime.datetime(1958, 6, 1, 0, 0),\n",
       "       datetime.datetime(1958, 7, 1, 0, 0),\n",
       "       datetime.datetime(1958, 8, 1, 0, 0),\n",
       "       datetime.datetime(1958, 9, 1, 0, 0),\n",
       "       datetime.datetime(1958, 10, 1, 0, 0),\n",
       "       datetime.datetime(1958, 11, 1, 0, 0),\n",
       "       datetime.datetime(1958, 12, 1, 0, 0),\n",
       "       datetime.datetime(1959, 1, 1, 0, 0),\n",
       "       datetime.datetime(1959, 2, 1, 0, 0),\n",
       "       datetime.datetime(1959, 3, 1, 0, 0),\n",
       "       datetime.datetime(1959, 4, 1, 0, 0),\n",
       "       datetime.datetime(1959, 5, 1, 0, 0),\n",
       "       datetime.datetime(1959, 6, 1, 0, 0),\n",
       "       datetime.datetime(1959, 7, 1, 0, 0),\n",
       "       datetime.datetime(1959, 8, 1, 0, 0),\n",
       "       datetime.datetime(1959, 9, 1, 0, 0),\n",
       "       datetime.datetime(1959, 10, 1, 0, 0),\n",
       "       datetime.datetime(1959, 11, 1, 0, 0),\n",
       "       datetime.datetime(1959, 12, 1, 0, 0),\n",
       "       datetime.datetime(1960, 1, 1, 0, 0),\n",
       "       datetime.datetime(1960, 2, 1, 0, 0),\n",
       "       datetime.datetime(1960, 3, 1, 0, 0),\n",
       "       datetime.datetime(1960, 4, 1, 0, 0),\n",
       "       datetime.datetime(1960, 5, 1, 0, 0),\n",
       "       datetime.datetime(1960, 6, 1, 0, 0),\n",
       "       datetime.datetime(1960, 7, 1, 0, 0),\n",
       "       datetime.datetime(1960, 8, 1, 0, 0),\n",
       "       datetime.datetime(1960, 9, 1, 0, 0),\n",
       "       datetime.datetime(1960, 10, 1, 0, 0),\n",
       "       datetime.datetime(1960, 11, 1, 0, 0),\n",
       "       datetime.datetime(1960, 12, 1, 0, 0),\n",
       "       datetime.datetime(1961, 1, 1, 0, 0),\n",
       "       datetime.datetime(1961, 2, 1, 0, 0),\n",
       "       datetime.datetime(1961, 3, 1, 0, 0),\n",
       "       datetime.datetime(1961, 4, 1, 0, 0),\n",
       "       datetime.datetime(1961, 5, 1, 0, 0),\n",
       "       datetime.datetime(1961, 6, 1, 0, 0),\n",
       "       datetime.datetime(1961, 7, 1, 0, 0),\n",
       "       datetime.datetime(1961, 8, 1, 0, 0),\n",
       "       datetime.datetime(1961, 9, 1, 0, 0),\n",
       "       datetime.datetime(1961, 10, 1, 0, 0),\n",
       "       datetime.datetime(1961, 11, 1, 0, 0),\n",
       "       datetime.datetime(1961, 12, 1, 0, 0),\n",
       "       datetime.datetime(1962, 1, 1, 0, 0),\n",
       "       datetime.datetime(1962, 2, 1, 0, 0),\n",
       "       datetime.datetime(1962, 3, 1, 0, 0),\n",
       "       datetime.datetime(1962, 4, 1, 0, 0),\n",
       "       datetime.datetime(1962, 5, 1, 0, 0),\n",
       "       datetime.datetime(1962, 6, 1, 0, 0),\n",
       "       datetime.datetime(1962, 7, 1, 0, 0),\n",
       "       datetime.datetime(1962, 8, 1, 0, 0),\n",
       "       datetime.datetime(1962, 9, 1, 0, 0),\n",
       "       datetime.datetime(1962, 10, 1, 0, 0),\n",
       "       datetime.datetime(1962, 11, 1, 0, 0),\n",
       "       datetime.datetime(1962, 12, 1, 0, 0),\n",
       "       datetime.datetime(1963, 1, 1, 0, 0),\n",
       "       datetime.datetime(1963, 2, 1, 0, 0),\n",
       "       datetime.datetime(1963, 3, 1, 0, 0),\n",
       "       datetime.datetime(1963, 4, 1, 0, 0),\n",
       "       datetime.datetime(1963, 5, 1, 0, 0),\n",
       "       datetime.datetime(1963, 6, 1, 0, 0),\n",
       "       datetime.datetime(1963, 7, 1, 0, 0),\n",
       "       datetime.datetime(1963, 8, 1, 0, 0),\n",
       "       datetime.datetime(1963, 9, 1, 0, 0),\n",
       "       datetime.datetime(1963, 10, 1, 0, 0),\n",
       "       datetime.datetime(1963, 11, 1, 0, 0),\n",
       "       datetime.datetime(1963, 12, 1, 0, 0),\n",
       "       datetime.datetime(1964, 1, 1, 0, 0),\n",
       "       datetime.datetime(1964, 2, 1, 0, 0),\n",
       "       datetime.datetime(1964, 3, 1, 0, 0),\n",
       "       datetime.datetime(1964, 4, 1, 0, 0),\n",
       "       datetime.datetime(1964, 5, 1, 0, 0),\n",
       "       datetime.datetime(1964, 6, 1, 0, 0),\n",
       "       datetime.datetime(1964, 7, 1, 0, 0),\n",
       "       datetime.datetime(1964, 8, 1, 0, 0),\n",
       "       datetime.datetime(1964, 9, 1, 0, 0),\n",
       "       datetime.datetime(1964, 10, 1, 0, 0),\n",
       "       datetime.datetime(1964, 11, 1, 0, 0),\n",
       "       datetime.datetime(1964, 12, 1, 0, 0),\n",
       "       datetime.datetime(1965, 1, 1, 0, 0),\n",
       "       datetime.datetime(1965, 2, 1, 0, 0),\n",
       "       datetime.datetime(1965, 3, 1, 0, 0),\n",
       "       datetime.datetime(1965, 4, 1, 0, 0),\n",
       "       datetime.datetime(1965, 5, 1, 0, 0),\n",
       "       datetime.datetime(1965, 6, 1, 0, 0),\n",
       "       datetime.datetime(1965, 7, 1, 0, 0),\n",
       "       datetime.datetime(1965, 8, 1, 0, 0),\n",
       "       datetime.datetime(1965, 9, 1, 0, 0),\n",
       "       datetime.datetime(1965, 10, 1, 0, 0),\n",
       "       datetime.datetime(1965, 11, 1, 0, 0),\n",
       "       datetime.datetime(1965, 12, 1, 0, 0),\n",
       "       datetime.datetime(1966, 1, 1, 0, 0),\n",
       "       datetime.datetime(1966, 2, 1, 0, 0),\n",
       "       datetime.datetime(1966, 3, 1, 0, 0),\n",
       "       datetime.datetime(1966, 4, 1, 0, 0),\n",
       "       datetime.datetime(1966, 5, 1, 0, 0),\n",
       "       datetime.datetime(1966, 6, 1, 0, 0),\n",
       "       datetime.datetime(1966, 7, 1, 0, 0),\n",
       "       datetime.datetime(1966, 8, 1, 0, 0),\n",
       "       datetime.datetime(1966, 9, 1, 0, 0),\n",
       "       datetime.datetime(1966, 10, 1, 0, 0),\n",
       "       datetime.datetime(1966, 11, 1, 0, 0),\n",
       "       datetime.datetime(1966, 12, 1, 0, 0),\n",
       "       datetime.datetime(1967, 1, 1, 0, 0),\n",
       "       datetime.datetime(1967, 2, 1, 0, 0),\n",
       "       datetime.datetime(1967, 3, 1, 0, 0),\n",
       "       datetime.datetime(1967, 4, 1, 0, 0),\n",
       "       datetime.datetime(1967, 5, 1, 0, 0),\n",
       "       datetime.datetime(1967, 6, 1, 0, 0),\n",
       "       datetime.datetime(1967, 7, 1, 0, 0),\n",
       "       datetime.datetime(1967, 8, 1, 0, 0),\n",
       "       datetime.datetime(1967, 9, 1, 0, 0),\n",
       "       datetime.datetime(1967, 10, 1, 0, 0),\n",
       "       datetime.datetime(1967, 11, 1, 0, 0),\n",
       "       datetime.datetime(1967, 12, 1, 0, 0),\n",
       "       datetime.datetime(1968, 1, 1, 0, 0),\n",
       "       datetime.datetime(1968, 2, 1, 0, 0),\n",
       "       datetime.datetime(1968, 3, 1, 0, 0),\n",
       "       datetime.datetime(1968, 4, 1, 0, 0),\n",
       "       datetime.datetime(1968, 5, 1, 0, 0),\n",
       "       datetime.datetime(1968, 6, 1, 0, 0),\n",
       "       datetime.datetime(1968, 7, 1, 0, 0),\n",
       "       datetime.datetime(1968, 8, 1, 0, 0),\n",
       "       datetime.datetime(1968, 9, 1, 0, 0),\n",
       "       datetime.datetime(1968, 10, 1, 0, 0),\n",
       "       datetime.datetime(1968, 11, 1, 0, 0),\n",
       "       datetime.datetime(1968, 12, 1, 0, 0),\n",
       "       datetime.datetime(1969, 1, 1, 0, 0),\n",
       "       datetime.datetime(1969, 2, 1, 0, 0),\n",
       "       datetime.datetime(1969, 3, 1, 0, 0),\n",
       "       datetime.datetime(1969, 4, 1, 0, 0),\n",
       "       datetime.datetime(1969, 5, 1, 0, 0),\n",
       "       datetime.datetime(1969, 6, 1, 0, 0),\n",
       "       datetime.datetime(1969, 7, 1, 0, 0),\n",
       "       datetime.datetime(1969, 8, 1, 0, 0),\n",
       "       datetime.datetime(1969, 9, 1, 0, 0),\n",
       "       datetime.datetime(1969, 10, 1, 0, 0),\n",
       "       datetime.datetime(1969, 11, 1, 0, 0),\n",
       "       datetime.datetime(1969, 12, 1, 0, 0),\n",
       "       datetime.datetime(1970, 1, 1, 0, 0),\n",
       "       datetime.datetime(1970, 2, 1, 0, 0),\n",
       "       datetime.datetime(1970, 3, 1, 0, 0),\n",
       "       datetime.datetime(1970, 4, 1, 0, 0),\n",
       "       datetime.datetime(1970, 5, 1, 0, 0),\n",
       "       datetime.datetime(1970, 6, 1, 0, 0),\n",
       "       datetime.datetime(1970, 7, 1, 0, 0),\n",
       "       datetime.datetime(1970, 8, 1, 0, 0),\n",
       "       datetime.datetime(1970, 9, 1, 0, 0),\n",
       "       datetime.datetime(1970, 10, 1, 0, 0),\n",
       "       datetime.datetime(1970, 11, 1, 0, 0),\n",
       "       datetime.datetime(1970, 12, 1, 0, 0),\n",
       "       datetime.datetime(1971, 1, 1, 0, 0),\n",
       "       datetime.datetime(1971, 2, 1, 0, 0),\n",
       "       datetime.datetime(1971, 3, 1, 0, 0),\n",
       "       datetime.datetime(1971, 4, 1, 0, 0),\n",
       "       datetime.datetime(1971, 5, 1, 0, 0),\n",
       "       datetime.datetime(1971, 6, 1, 0, 0),\n",
       "       datetime.datetime(1971, 7, 1, 0, 0),\n",
       "       datetime.datetime(1971, 8, 1, 0, 0),\n",
       "       datetime.datetime(1971, 9, 1, 0, 0),\n",
       "       datetime.datetime(1971, 10, 1, 0, 0),\n",
       "       datetime.datetime(1971, 11, 1, 0, 0),\n",
       "       datetime.datetime(1971, 12, 1, 0, 0),\n",
       "       datetime.datetime(1972, 1, 1, 0, 0),\n",
       "       datetime.datetime(1972, 2, 1, 0, 0),\n",
       "       datetime.datetime(1972, 3, 1, 0, 0),\n",
       "       datetime.datetime(1972, 4, 1, 0, 0),\n",
       "       datetime.datetime(1972, 5, 1, 0, 0),\n",
       "       datetime.datetime(1972, 6, 1, 0, 0),\n",
       "       datetime.datetime(1972, 7, 1, 0, 0),\n",
       "       datetime.datetime(1972, 8, 1, 0, 0),\n",
       "       datetime.datetime(1972, 9, 1, 0, 0),\n",
       "       datetime.datetime(1972, 10, 1, 0, 0),\n",
       "       datetime.datetime(1972, 11, 1, 0, 0),\n",
       "       datetime.datetime(1972, 12, 1, 0, 0),\n",
       "       datetime.datetime(1973, 1, 1, 0, 0),\n",
       "       datetime.datetime(1973, 2, 1, 0, 0),\n",
       "       datetime.datetime(1973, 3, 1, 0, 0),\n",
       "       datetime.datetime(1973, 4, 1, 0, 0),\n",
       "       datetime.datetime(1973, 5, 1, 0, 0),\n",
       "       datetime.datetime(1973, 6, 1, 0, 0),\n",
       "       datetime.datetime(1973, 7, 1, 0, 0),\n",
       "       datetime.datetime(1973, 8, 1, 0, 0),\n",
       "       datetime.datetime(1973, 9, 1, 0, 0),\n",
       "       datetime.datetime(1973, 10, 1, 0, 0),\n",
       "       datetime.datetime(1973, 11, 1, 0, 0),\n",
       "       datetime.datetime(1973, 12, 1, 0, 0),\n",
       "       datetime.datetime(1974, 1, 1, 0, 0),\n",
       "       datetime.datetime(1974, 2, 1, 0, 0),\n",
       "       datetime.datetime(1974, 3, 1, 0, 0),\n",
       "       datetime.datetime(1974, 4, 1, 0, 0),\n",
       "       datetime.datetime(1974, 5, 1, 0, 0),\n",
       "       datetime.datetime(1974, 6, 1, 0, 0),\n",
       "       datetime.datetime(1974, 7, 1, 0, 0),\n",
       "       datetime.datetime(1974, 8, 1, 0, 0),\n",
       "       datetime.datetime(1974, 9, 1, 0, 0),\n",
       "       datetime.datetime(1974, 10, 1, 0, 0),\n",
       "       datetime.datetime(1974, 11, 1, 0, 0),\n",
       "       datetime.datetime(1974, 12, 1, 0, 0),\n",
       "       datetime.datetime(1975, 1, 1, 0, 0),\n",
       "       datetime.datetime(1975, 2, 1, 0, 0),\n",
       "       datetime.datetime(1975, 3, 1, 0, 0),\n",
       "       datetime.datetime(1975, 4, 1, 0, 0),\n",
       "       datetime.datetime(1975, 5, 1, 0, 0),\n",
       "       datetime.datetime(1975, 6, 1, 0, 0),\n",
       "       datetime.datetime(1975, 7, 1, 0, 0),\n",
       "       datetime.datetime(1975, 8, 1, 0, 0),\n",
       "       datetime.datetime(1975, 9, 1, 0, 0),\n",
       "       datetime.datetime(1975, 10, 1, 0, 0),\n",
       "       datetime.datetime(1975, 11, 1, 0, 0),\n",
       "       datetime.datetime(1975, 12, 1, 0, 0),\n",
       "       datetime.datetime(1976, 1, 1, 0, 0),\n",
       "       datetime.datetime(1976, 2, 1, 0, 0),\n",
       "       datetime.datetime(1976, 3, 1, 0, 0),\n",
       "       datetime.datetime(1976, 4, 1, 0, 0),\n",
       "       datetime.datetime(1976, 5, 1, 0, 0),\n",
       "       datetime.datetime(1976, 6, 1, 0, 0),\n",
       "       datetime.datetime(1976, 7, 1, 0, 0),\n",
       "       datetime.datetime(1976, 8, 1, 0, 0),\n",
       "       datetime.datetime(1976, 9, 1, 0, 0),\n",
       "       datetime.datetime(1976, 10, 1, 0, 0),\n",
       "       datetime.datetime(1976, 11, 1, 0, 0),\n",
       "       datetime.datetime(1976, 12, 1, 0, 0),\n",
       "       datetime.datetime(1977, 1, 1, 0, 0),\n",
       "       datetime.datetime(1977, 2, 1, 0, 0),\n",
       "       datetime.datetime(1977, 3, 1, 0, 0),\n",
       "       datetime.datetime(1977, 4, 1, 0, 0),\n",
       "       datetime.datetime(1977, 5, 1, 0, 0),\n",
       "       datetime.datetime(1977, 6, 1, 0, 0),\n",
       "       datetime.datetime(1977, 7, 1, 0, 0),\n",
       "       datetime.datetime(1977, 8, 1, 0, 0),\n",
       "       datetime.datetime(1977, 9, 1, 0, 0),\n",
       "       datetime.datetime(1977, 10, 1, 0, 0),\n",
       "       datetime.datetime(1977, 11, 1, 0, 0),\n",
       "       datetime.datetime(1977, 12, 1, 0, 0),\n",
       "       datetime.datetime(1978, 1, 1, 0, 0),\n",
       "       datetime.datetime(1978, 2, 1, 0, 0),\n",
       "       datetime.datetime(1978, 3, 1, 0, 0),\n",
       "       datetime.datetime(1978, 4, 1, 0, 0),\n",
       "       datetime.datetime(1978, 5, 1, 0, 0),\n",
       "       datetime.datetime(1978, 6, 1, 0, 0),\n",
       "       datetime.datetime(1978, 7, 1, 0, 0),\n",
       "       datetime.datetime(1978, 8, 1, 0, 0),\n",
       "       datetime.datetime(1978, 9, 1, 0, 0),\n",
       "       datetime.datetime(1978, 10, 1, 0, 0),\n",
       "       datetime.datetime(1978, 11, 1, 0, 0),\n",
       "       datetime.datetime(1978, 12, 1, 0, 0),\n",
       "       datetime.datetime(1979, 1, 1, 0, 0),\n",
       "       datetime.datetime(1979, 2, 1, 0, 0),\n",
       "       datetime.datetime(1979, 3, 1, 0, 0),\n",
       "       datetime.datetime(1979, 4, 1, 0, 0),\n",
       "       datetime.datetime(1979, 5, 1, 0, 0),\n",
       "       datetime.datetime(1979, 6, 1, 0, 0),\n",
       "       datetime.datetime(1979, 7, 1, 0, 0),\n",
       "       datetime.datetime(1979, 8, 1, 0, 0),\n",
       "       datetime.datetime(1979, 9, 1, 0, 0),\n",
       "       datetime.datetime(1979, 10, 1, 0, 0),\n",
       "       datetime.datetime(1979, 11, 1, 0, 0),\n",
       "       datetime.datetime(1979, 12, 1, 0, 0),\n",
       "       datetime.datetime(1980, 1, 1, 0, 0),\n",
       "       datetime.datetime(1980, 2, 1, 0, 0),\n",
       "       datetime.datetime(1980, 3, 1, 0, 0),\n",
       "       datetime.datetime(1980, 4, 1, 0, 0),\n",
       "       datetime.datetime(1980, 5, 1, 0, 0),\n",
       "       datetime.datetime(1980, 6, 1, 0, 0),\n",
       "       datetime.datetime(1980, 7, 1, 0, 0),\n",
       "       datetime.datetime(1980, 8, 1, 0, 0),\n",
       "       datetime.datetime(1980, 9, 1, 0, 0),\n",
       "       datetime.datetime(1980, 10, 1, 0, 0),\n",
       "       datetime.datetime(1980, 11, 1, 0, 0),\n",
       "       datetime.datetime(1980, 12, 1, 0, 0),\n",
       "       datetime.datetime(1981, 1, 1, 0, 0),\n",
       "       datetime.datetime(1981, 2, 1, 0, 0),\n",
       "       datetime.datetime(1981, 3, 1, 0, 0),\n",
       "       datetime.datetime(1981, 4, 1, 0, 0),\n",
       "       datetime.datetime(1981, 5, 1, 0, 0),\n",
       "       datetime.datetime(1981, 6, 1, 0, 0),\n",
       "       datetime.datetime(1981, 7, 1, 0, 0),\n",
       "       datetime.datetime(1981, 8, 1, 0, 0),\n",
       "       datetime.datetime(1981, 9, 1, 0, 0),\n",
       "       datetime.datetime(1981, 10, 1, 0, 0),\n",
       "       datetime.datetime(1981, 11, 1, 0, 0),\n",
       "       datetime.datetime(1981, 12, 1, 0, 0),\n",
       "       datetime.datetime(1982, 1, 1, 0, 0),\n",
       "       datetime.datetime(1982, 2, 1, 0, 0),\n",
       "       datetime.datetime(1982, 3, 1, 0, 0),\n",
       "       datetime.datetime(1982, 4, 1, 0, 0),\n",
       "       datetime.datetime(1982, 5, 1, 0, 0),\n",
       "       datetime.datetime(1982, 6, 1, 0, 0),\n",
       "       datetime.datetime(1982, 7, 1, 0, 0),\n",
       "       datetime.datetime(1982, 8, 1, 0, 0),\n",
       "       datetime.datetime(1982, 9, 1, 0, 0),\n",
       "       datetime.datetime(1982, 10, 1, 0, 0),\n",
       "       datetime.datetime(1982, 11, 1, 0, 0),\n",
       "       datetime.datetime(1982, 12, 1, 0, 0),\n",
       "       datetime.datetime(1983, 1, 1, 0, 0),\n",
       "       datetime.datetime(1983, 2, 1, 0, 0),\n",
       "       datetime.datetime(1983, 3, 1, 0, 0),\n",
       "       datetime.datetime(1983, 4, 1, 0, 0),\n",
       "       datetime.datetime(1983, 5, 1, 0, 0),\n",
       "       datetime.datetime(1983, 6, 1, 0, 0),\n",
       "       datetime.datetime(1983, 7, 1, 0, 0),\n",
       "       datetime.datetime(1983, 8, 1, 0, 0),\n",
       "       datetime.datetime(1983, 9, 1, 0, 0),\n",
       "       datetime.datetime(1983, 10, 1, 0, 0),\n",
       "       datetime.datetime(1983, 11, 1, 0, 0),\n",
       "       datetime.datetime(1983, 12, 1, 0, 0),\n",
       "       datetime.datetime(1984, 1, 1, 0, 0),\n",
       "       datetime.datetime(1984, 2, 1, 0, 0),\n",
       "       datetime.datetime(1984, 3, 1, 0, 0),\n",
       "       datetime.datetime(1984, 4, 1, 0, 0),\n",
       "       datetime.datetime(1984, 5, 1, 0, 0),\n",
       "       datetime.datetime(1984, 6, 1, 0, 0),\n",
       "       datetime.datetime(1984, 7, 1, 0, 0),\n",
       "       datetime.datetime(1984, 8, 1, 0, 0),\n",
       "       datetime.datetime(1984, 9, 1, 0, 0),\n",
       "       datetime.datetime(1984, 10, 1, 0, 0),\n",
       "       datetime.datetime(1984, 11, 1, 0, 0),\n",
       "       datetime.datetime(1984, 12, 1, 0, 0),\n",
       "       datetime.datetime(1985, 1, 1, 0, 0),\n",
       "       datetime.datetime(1985, 2, 1, 0, 0),\n",
       "       datetime.datetime(1985, 3, 1, 0, 0),\n",
       "       datetime.datetime(1985, 4, 1, 0, 0),\n",
       "       datetime.datetime(1985, 5, 1, 0, 0),\n",
       "       datetime.datetime(1985, 6, 1, 0, 0),\n",
       "       datetime.datetime(1985, 7, 1, 0, 0),\n",
       "       datetime.datetime(1985, 8, 1, 0, 0),\n",
       "       datetime.datetime(1985, 9, 1, 0, 0),\n",
       "       datetime.datetime(1985, 10, 1, 0, 0),\n",
       "       datetime.datetime(1985, 11, 1, 0, 0),\n",
       "       datetime.datetime(1985, 12, 1, 0, 0),\n",
       "       datetime.datetime(1986, 1, 1, 0, 0),\n",
       "       datetime.datetime(1986, 2, 1, 0, 0),\n",
       "       datetime.datetime(1986, 3, 1, 0, 0),\n",
       "       datetime.datetime(1986, 4, 1, 0, 0),\n",
       "       datetime.datetime(1986, 5, 1, 0, 0),\n",
       "       datetime.datetime(1986, 6, 1, 0, 0),\n",
       "       datetime.datetime(1986, 7, 1, 0, 0),\n",
       "       datetime.datetime(1986, 8, 1, 0, 0),\n",
       "       datetime.datetime(1986, 9, 1, 0, 0),\n",
       "       datetime.datetime(1986, 10, 1, 0, 0),\n",
       "       datetime.datetime(1986, 11, 1, 0, 0),\n",
       "       datetime.datetime(1986, 12, 1, 0, 0),\n",
       "       datetime.datetime(1987, 1, 1, 0, 0),\n",
       "       datetime.datetime(1987, 2, 1, 0, 0),\n",
       "       datetime.datetime(1987, 3, 1, 0, 0),\n",
       "       datetime.datetime(1987, 4, 1, 0, 0),\n",
       "       datetime.datetime(1987, 5, 1, 0, 0),\n",
       "       datetime.datetime(1987, 6, 1, 0, 0),\n",
       "       datetime.datetime(1987, 7, 1, 0, 0),\n",
       "       datetime.datetime(1987, 8, 1, 0, 0),\n",
       "       datetime.datetime(1987, 9, 1, 0, 0),\n",
       "       datetime.datetime(1987, 10, 1, 0, 0),\n",
       "       datetime.datetime(1987, 11, 1, 0, 0),\n",
       "       datetime.datetime(1987, 12, 1, 0, 0),\n",
       "       datetime.datetime(1988, 1, 1, 0, 0),\n",
       "       datetime.datetime(1988, 2, 1, 0, 0),\n",
       "       datetime.datetime(1988, 3, 1, 0, 0),\n",
       "       datetime.datetime(1988, 4, 1, 0, 0),\n",
       "       datetime.datetime(1988, 5, 1, 0, 0),\n",
       "       datetime.datetime(1988, 6, 1, 0, 0),\n",
       "       datetime.datetime(1988, 7, 1, 0, 0),\n",
       "       datetime.datetime(1988, 8, 1, 0, 0),\n",
       "       datetime.datetime(1988, 9, 1, 0, 0),\n",
       "       datetime.datetime(1988, 10, 1, 0, 0),\n",
       "       datetime.datetime(1988, 11, 1, 0, 0),\n",
       "       datetime.datetime(1988, 12, 1, 0, 0),\n",
       "       datetime.datetime(1989, 1, 1, 0, 0),\n",
       "       datetime.datetime(1989, 2, 1, 0, 0),\n",
       "       datetime.datetime(1989, 3, 1, 0, 0),\n",
       "       datetime.datetime(1989, 4, 1, 0, 0),\n",
       "       datetime.datetime(1989, 5, 1, 0, 0),\n",
       "       datetime.datetime(1989, 6, 1, 0, 0),\n",
       "       datetime.datetime(1989, 7, 1, 0, 0),\n",
       "       datetime.datetime(1989, 8, 1, 0, 0),\n",
       "       datetime.datetime(1989, 9, 1, 0, 0),\n",
       "       datetime.datetime(1989, 10, 1, 0, 0),\n",
       "       datetime.datetime(1989, 11, 1, 0, 0),\n",
       "       datetime.datetime(1989, 12, 1, 0, 0),\n",
       "       datetime.datetime(1990, 1, 1, 0, 0),\n",
       "       datetime.datetime(1990, 2, 1, 0, 0),\n",
       "       datetime.datetime(1990, 3, 1, 0, 0),\n",
       "       datetime.datetime(1990, 4, 1, 0, 0),\n",
       "       datetime.datetime(1990, 5, 1, 0, 0),\n",
       "       datetime.datetime(1990, 6, 1, 0, 0),\n",
       "       datetime.datetime(1990, 7, 1, 0, 0),\n",
       "       datetime.datetime(1990, 8, 1, 0, 0),\n",
       "       datetime.datetime(1990, 9, 1, 0, 0),\n",
       "       datetime.datetime(1990, 10, 1, 0, 0),\n",
       "       datetime.datetime(1990, 11, 1, 0, 0),\n",
       "       datetime.datetime(1990, 12, 1, 0, 0),\n",
       "       datetime.datetime(1991, 1, 1, 0, 0),\n",
       "       datetime.datetime(1991, 2, 1, 0, 0),\n",
       "       datetime.datetime(1991, 3, 1, 0, 0),\n",
       "       datetime.datetime(1991, 4, 1, 0, 0),\n",
       "       datetime.datetime(1991, 5, 1, 0, 0),\n",
       "       datetime.datetime(1991, 6, 1, 0, 0),\n",
       "       datetime.datetime(1991, 7, 1, 0, 0),\n",
       "       datetime.datetime(1991, 8, 1, 0, 0),\n",
       "       datetime.datetime(1991, 9, 1, 0, 0),\n",
       "       datetime.datetime(1991, 10, 1, 0, 0),\n",
       "       datetime.datetime(1991, 11, 1, 0, 0),\n",
       "       datetime.datetime(1991, 12, 1, 0, 0),\n",
       "       datetime.datetime(1992, 1, 1, 0, 0),\n",
       "       datetime.datetime(1992, 2, 1, 0, 0),\n",
       "       datetime.datetime(1992, 3, 1, 0, 0),\n",
       "       datetime.datetime(1992, 4, 1, 0, 0),\n",
       "       datetime.datetime(1992, 5, 1, 0, 0),\n",
       "       datetime.datetime(1992, 6, 1, 0, 0),\n",
       "       datetime.datetime(1992, 7, 1, 0, 0),\n",
       "       datetime.datetime(1992, 8, 1, 0, 0),\n",
       "       datetime.datetime(1992, 9, 1, 0, 0),\n",
       "       datetime.datetime(1992, 10, 1, 0, 0),\n",
       "       datetime.datetime(1992, 11, 1, 0, 0),\n",
       "       datetime.datetime(1992, 12, 1, 0, 0),\n",
       "       datetime.datetime(1993, 1, 1, 0, 0),\n",
       "       datetime.datetime(1993, 2, 1, 0, 0),\n",
       "       datetime.datetime(1993, 3, 1, 0, 0),\n",
       "       datetime.datetime(1993, 4, 1, 0, 0),\n",
       "       datetime.datetime(1993, 5, 1, 0, 0),\n",
       "       datetime.datetime(1993, 6, 1, 0, 0),\n",
       "       datetime.datetime(1993, 7, 1, 0, 0),\n",
       "       datetime.datetime(1993, 8, 1, 0, 0),\n",
       "       datetime.datetime(1993, 9, 1, 0, 0),\n",
       "       datetime.datetime(1993, 10, 1, 0, 0),\n",
       "       datetime.datetime(1993, 11, 1, 0, 0),\n",
       "       datetime.datetime(1993, 12, 1, 0, 0),\n",
       "       datetime.datetime(1994, 1, 1, 0, 0),\n",
       "       datetime.datetime(1994, 2, 1, 0, 0),\n",
       "       datetime.datetime(1994, 3, 1, 0, 0),\n",
       "       datetime.datetime(1994, 4, 1, 0, 0),\n",
       "       datetime.datetime(1994, 5, 1, 0, 0),\n",
       "       datetime.datetime(1994, 6, 1, 0, 0),\n",
       "       datetime.datetime(1994, 7, 1, 0, 0),\n",
       "       datetime.datetime(1994, 8, 1, 0, 0),\n",
       "       datetime.datetime(1994, 9, 1, 0, 0),\n",
       "       datetime.datetime(1994, 10, 1, 0, 0),\n",
       "       datetime.datetime(1994, 11, 1, 0, 0),\n",
       "       datetime.datetime(1994, 12, 1, 0, 0),\n",
       "       datetime.datetime(1995, 1, 1, 0, 0),\n",
       "       datetime.datetime(1995, 2, 1, 0, 0),\n",
       "       datetime.datetime(1995, 3, 1, 0, 0),\n",
       "       datetime.datetime(1995, 4, 1, 0, 0),\n",
       "       datetime.datetime(1995, 5, 1, 0, 0),\n",
       "       datetime.datetime(1995, 6, 1, 0, 0),\n",
       "       datetime.datetime(1995, 7, 1, 0, 0),\n",
       "       datetime.datetime(1995, 8, 1, 0, 0),\n",
       "       datetime.datetime(1995, 9, 1, 0, 0),\n",
       "       datetime.datetime(1995, 10, 1, 0, 0),\n",
       "       datetime.datetime(1995, 11, 1, 0, 0),\n",
       "       datetime.datetime(1995, 12, 1, 0, 0),\n",
       "       datetime.datetime(1996, 1, 1, 0, 0),\n",
       "       datetime.datetime(1996, 2, 1, 0, 0),\n",
       "       datetime.datetime(1996, 3, 1, 0, 0),\n",
       "       datetime.datetime(1996, 4, 1, 0, 0),\n",
       "       datetime.datetime(1996, 5, 1, 0, 0),\n",
       "       datetime.datetime(1996, 6, 1, 0, 0),\n",
       "       datetime.datetime(1996, 7, 1, 0, 0),\n",
       "       datetime.datetime(1996, 8, 1, 0, 0),\n",
       "       datetime.datetime(1996, 9, 1, 0, 0),\n",
       "       datetime.datetime(1996, 10, 1, 0, 0),\n",
       "       datetime.datetime(1996, 11, 1, 0, 0),\n",
       "       datetime.datetime(1996, 12, 1, 0, 0),\n",
       "       datetime.datetime(1997, 1, 1, 0, 0),\n",
       "       datetime.datetime(1997, 2, 1, 0, 0),\n",
       "       datetime.datetime(1997, 3, 1, 0, 0),\n",
       "       datetime.datetime(1997, 4, 1, 0, 0),\n",
       "       datetime.datetime(1997, 5, 1, 0, 0),\n",
       "       datetime.datetime(1997, 6, 1, 0, 0),\n",
       "       datetime.datetime(1997, 7, 1, 0, 0),\n",
       "       datetime.datetime(1997, 8, 1, 0, 0),\n",
       "       datetime.datetime(1997, 9, 1, 0, 0),\n",
       "       datetime.datetime(1997, 10, 1, 0, 0),\n",
       "       datetime.datetime(1997, 11, 1, 0, 0),\n",
       "       datetime.datetime(1997, 12, 1, 0, 0),\n",
       "       datetime.datetime(1998, 1, 1, 0, 0),\n",
       "       datetime.datetime(1998, 2, 1, 0, 0),\n",
       "       datetime.datetime(1998, 3, 1, 0, 0),\n",
       "       datetime.datetime(1998, 4, 1, 0, 0),\n",
       "       datetime.datetime(1998, 5, 1, 0, 0),\n",
       "       datetime.datetime(1998, 6, 1, 0, 0),\n",
       "       datetime.datetime(1998, 7, 1, 0, 0),\n",
       "       datetime.datetime(1998, 8, 1, 0, 0),\n",
       "       datetime.datetime(1998, 9, 1, 0, 0),\n",
       "       datetime.datetime(1998, 10, 1, 0, 0),\n",
       "       datetime.datetime(1998, 11, 1, 0, 0),\n",
       "       datetime.datetime(1998, 12, 1, 0, 0),\n",
       "       datetime.datetime(1999, 1, 1, 0, 0),\n",
       "       datetime.datetime(1999, 2, 1, 0, 0),\n",
       "       datetime.datetime(1999, 3, 1, 0, 0),\n",
       "       datetime.datetime(1999, 4, 1, 0, 0),\n",
       "       datetime.datetime(1999, 5, 1, 0, 0),\n",
       "       datetime.datetime(1999, 6, 1, 0, 0),\n",
       "       datetime.datetime(1999, 7, 1, 0, 0),\n",
       "       datetime.datetime(1999, 8, 1, 0, 0),\n",
       "       datetime.datetime(1999, 9, 1, 0, 0),\n",
       "       datetime.datetime(1999, 10, 1, 0, 0),\n",
       "       datetime.datetime(1999, 11, 1, 0, 0),\n",
       "       datetime.datetime(1999, 12, 1, 0, 0),\n",
       "       datetime.datetime(2000, 1, 1, 0, 0),\n",
       "       datetime.datetime(2000, 2, 1, 0, 0),\n",
       "       datetime.datetime(2000, 3, 1, 0, 0),\n",
       "       datetime.datetime(2000, 4, 1, 0, 0),\n",
       "       datetime.datetime(2000, 5, 1, 0, 0),\n",
       "       datetime.datetime(2000, 6, 1, 0, 0),\n",
       "       datetime.datetime(2000, 7, 1, 0, 0),\n",
       "       datetime.datetime(2000, 8, 1, 0, 0),\n",
       "       datetime.datetime(2000, 9, 1, 0, 0),\n",
       "       datetime.datetime(2000, 10, 1, 0, 0),\n",
       "       datetime.datetime(2000, 11, 1, 0, 0),\n",
       "       datetime.datetime(2000, 12, 1, 0, 0),\n",
       "       datetime.datetime(2001, 1, 1, 0, 0),\n",
       "       datetime.datetime(2001, 2, 1, 0, 0),\n",
       "       datetime.datetime(2001, 3, 1, 0, 0),\n",
       "       datetime.datetime(2001, 4, 1, 0, 0),\n",
       "       datetime.datetime(2001, 5, 1, 0, 0),\n",
       "       datetime.datetime(2001, 6, 1, 0, 0),\n",
       "       datetime.datetime(2001, 7, 1, 0, 0),\n",
       "       datetime.datetime(2001, 8, 1, 0, 0),\n",
       "       datetime.datetime(2001, 9, 1, 0, 0),\n",
       "       datetime.datetime(2001, 10, 1, 0, 0),\n",
       "       datetime.datetime(2001, 11, 1, 0, 0),\n",
       "       datetime.datetime(2001, 12, 1, 0, 0),\n",
       "       datetime.datetime(2002, 1, 1, 0, 0),\n",
       "       datetime.datetime(2002, 2, 1, 0, 0),\n",
       "       datetime.datetime(2002, 3, 1, 0, 0),\n",
       "       datetime.datetime(2002, 4, 1, 0, 0),\n",
       "       datetime.datetime(2002, 5, 1, 0, 0),\n",
       "       datetime.datetime(2002, 6, 1, 0, 0),\n",
       "       datetime.datetime(2002, 7, 1, 0, 0),\n",
       "       datetime.datetime(2002, 8, 1, 0, 0),\n",
       "       datetime.datetime(2002, 9, 1, 0, 0),\n",
       "       datetime.datetime(2002, 10, 1, 0, 0),\n",
       "       datetime.datetime(2002, 11, 1, 0, 0),\n",
       "       datetime.datetime(2002, 12, 1, 0, 0),\n",
       "       datetime.datetime(2003, 1, 1, 0, 0),\n",
       "       datetime.datetime(2003, 2, 1, 0, 0),\n",
       "       datetime.datetime(2003, 3, 1, 0, 0),\n",
       "       datetime.datetime(2003, 4, 1, 0, 0),\n",
       "       datetime.datetime(2003, 5, 1, 0, 0),\n",
       "       datetime.datetime(2003, 6, 1, 0, 0),\n",
       "       datetime.datetime(2003, 7, 1, 0, 0),\n",
       "       datetime.datetime(2003, 8, 1, 0, 0),\n",
       "       datetime.datetime(2003, 9, 1, 0, 0),\n",
       "       datetime.datetime(2003, 10, 1, 0, 0),\n",
       "       datetime.datetime(2003, 11, 1, 0, 0),\n",
       "       datetime.datetime(2003, 12, 1, 0, 0),\n",
       "       datetime.datetime(2004, 1, 1, 0, 0),\n",
       "       datetime.datetime(2004, 2, 1, 0, 0),\n",
       "       datetime.datetime(2004, 3, 1, 0, 0),\n",
       "       datetime.datetime(2004, 4, 1, 0, 0),\n",
       "       datetime.datetime(2004, 5, 1, 0, 0),\n",
       "       datetime.datetime(2004, 6, 1, 0, 0),\n",
       "       datetime.datetime(2004, 7, 1, 0, 0),\n",
       "       datetime.datetime(2004, 8, 1, 0, 0),\n",
       "       datetime.datetime(2004, 9, 1, 0, 0),\n",
       "       datetime.datetime(2004, 10, 1, 0, 0),\n",
       "       datetime.datetime(2004, 11, 1, 0, 0),\n",
       "       datetime.datetime(2004, 12, 1, 0, 0),\n",
       "       datetime.datetime(2005, 1, 1, 0, 0),\n",
       "       datetime.datetime(2005, 2, 1, 0, 0),\n",
       "       datetime.datetime(2005, 3, 1, 0, 0),\n",
       "       datetime.datetime(2005, 4, 1, 0, 0),\n",
       "       datetime.datetime(2005, 5, 1, 0, 0),\n",
       "       datetime.datetime(2005, 6, 1, 0, 0),\n",
       "       datetime.datetime(2005, 7, 1, 0, 0),\n",
       "       datetime.datetime(2005, 8, 1, 0, 0),\n",
       "       datetime.datetime(2005, 9, 1, 0, 0),\n",
       "       datetime.datetime(2005, 10, 1, 0, 0),\n",
       "       datetime.datetime(2005, 11, 1, 0, 0),\n",
       "       datetime.datetime(2005, 12, 1, 0, 0),\n",
       "       datetime.datetime(2006, 1, 1, 0, 0),\n",
       "       datetime.datetime(2006, 2, 1, 0, 0),\n",
       "       datetime.datetime(2006, 3, 1, 0, 0),\n",
       "       datetime.datetime(2006, 4, 1, 0, 0),\n",
       "       datetime.datetime(2006, 5, 1, 0, 0),\n",
       "       datetime.datetime(2006, 6, 1, 0, 0),\n",
       "       datetime.datetime(2006, 7, 1, 0, 0),\n",
       "       datetime.datetime(2006, 8, 1, 0, 0),\n",
       "       datetime.datetime(2006, 9, 1, 0, 0),\n",
       "       datetime.datetime(2006, 10, 1, 0, 0),\n",
       "       datetime.datetime(2006, 11, 1, 0, 0),\n",
       "       datetime.datetime(2006, 12, 1, 0, 0),\n",
       "       datetime.datetime(2007, 1, 1, 0, 0),\n",
       "       datetime.datetime(2007, 2, 1, 0, 0),\n",
       "       datetime.datetime(2007, 3, 1, 0, 0),\n",
       "       datetime.datetime(2007, 4, 1, 0, 0),\n",
       "       datetime.datetime(2007, 5, 1, 0, 0),\n",
       "       datetime.datetime(2007, 6, 1, 0, 0),\n",
       "       datetime.datetime(2007, 7, 1, 0, 0),\n",
       "       datetime.datetime(2007, 8, 1, 0, 0),\n",
       "       datetime.datetime(2007, 9, 1, 0, 0),\n",
       "       datetime.datetime(2007, 10, 1, 0, 0),\n",
       "       datetime.datetime(2007, 11, 1, 0, 0),\n",
       "       datetime.datetime(2007, 12, 1, 0, 0),\n",
       "       datetime.datetime(2008, 1, 1, 0, 0),\n",
       "       datetime.datetime(2008, 2, 1, 0, 0),\n",
       "       datetime.datetime(2008, 3, 1, 0, 0),\n",
       "       datetime.datetime(2008, 4, 1, 0, 0),\n",
       "       datetime.datetime(2008, 5, 1, 0, 0),\n",
       "       datetime.datetime(2008, 6, 1, 0, 0),\n",
       "       datetime.datetime(2008, 7, 1, 0, 0),\n",
       "       datetime.datetime(2008, 8, 1, 0, 0),\n",
       "       datetime.datetime(2008, 9, 1, 0, 0),\n",
       "       datetime.datetime(2008, 10, 1, 0, 0),\n",
       "       datetime.datetime(2008, 11, 1, 0, 0),\n",
       "       datetime.datetime(2008, 12, 1, 0, 0),\n",
       "       datetime.datetime(2009, 1, 1, 0, 0),\n",
       "       datetime.datetime(2009, 2, 1, 0, 0),\n",
       "       datetime.datetime(2009, 3, 1, 0, 0),\n",
       "       datetime.datetime(2009, 4, 1, 0, 0),\n",
       "       datetime.datetime(2009, 5, 1, 0, 0),\n",
       "       datetime.datetime(2009, 6, 1, 0, 0),\n",
       "       datetime.datetime(2009, 7, 1, 0, 0),\n",
       "       datetime.datetime(2009, 8, 1, 0, 0),\n",
       "       datetime.datetime(2009, 9, 1, 0, 0),\n",
       "       datetime.datetime(2009, 10, 1, 0, 0),\n",
       "       datetime.datetime(2009, 11, 1, 0, 0),\n",
       "       datetime.datetime(2009, 12, 1, 0, 0),\n",
       "       datetime.datetime(2010, 1, 1, 0, 0),\n",
       "       datetime.datetime(2010, 2, 1, 0, 0),\n",
       "       datetime.datetime(2010, 3, 1, 0, 0),\n",
       "       datetime.datetime(2010, 4, 1, 0, 0),\n",
       "       datetime.datetime(2010, 5, 1, 0, 0),\n",
       "       datetime.datetime(2010, 6, 1, 0, 0),\n",
       "       datetime.datetime(2010, 7, 1, 0, 0),\n",
       "       datetime.datetime(2010, 8, 1, 0, 0),\n",
       "       datetime.datetime(2010, 9, 1, 0, 0),\n",
       "       datetime.datetime(2010, 10, 1, 0, 0),\n",
       "       datetime.datetime(2010, 11, 1, 0, 0),\n",
       "       datetime.datetime(2010, 12, 1, 0, 0),\n",
       "       datetime.datetime(2011, 1, 1, 0, 0),\n",
       "       datetime.datetime(2011, 2, 1, 0, 0),\n",
       "       datetime.datetime(2011, 3, 1, 0, 0),\n",
       "       datetime.datetime(2011, 4, 1, 0, 0),\n",
       "       datetime.datetime(2011, 5, 1, 0, 0),\n",
       "       datetime.datetime(2011, 6, 1, 0, 0),\n",
       "       datetime.datetime(2011, 7, 1, 0, 0),\n",
       "       datetime.datetime(2011, 8, 1, 0, 0),\n",
       "       datetime.datetime(2011, 9, 1, 0, 0),\n",
       "       datetime.datetime(2011, 10, 1, 0, 0),\n",
       "       datetime.datetime(2011, 11, 1, 0, 0),\n",
       "       datetime.datetime(2011, 12, 1, 0, 0),\n",
       "       datetime.datetime(2012, 1, 1, 0, 0),\n",
       "       datetime.datetime(2012, 2, 1, 0, 0),\n",
       "       datetime.datetime(2012, 3, 1, 0, 0),\n",
       "       datetime.datetime(2012, 4, 1, 0, 0),\n",
       "       datetime.datetime(2012, 5, 1, 0, 0),\n",
       "       datetime.datetime(2012, 6, 1, 0, 0),\n",
       "       datetime.datetime(2012, 7, 1, 0, 0),\n",
       "       datetime.datetime(2012, 8, 1, 0, 0),\n",
       "       datetime.datetime(2012, 9, 1, 0, 0),\n",
       "       datetime.datetime(2012, 10, 1, 0, 0),\n",
       "       datetime.datetime(2012, 11, 1, 0, 0),\n",
       "       datetime.datetime(2012, 12, 1, 0, 0),\n",
       "       datetime.datetime(2013, 1, 1, 0, 0),\n",
       "       datetime.datetime(2013, 2, 1, 0, 0),\n",
       "       datetime.datetime(2013, 3, 1, 0, 0),\n",
       "       datetime.datetime(2013, 4, 1, 0, 0),\n",
       "       datetime.datetime(2013, 5, 1, 0, 0),\n",
       "       datetime.datetime(2013, 6, 1, 0, 0),\n",
       "       datetime.datetime(2013, 7, 1, 0, 0),\n",
       "       datetime.datetime(2013, 8, 1, 0, 0),\n",
       "       datetime.datetime(2013, 9, 1, 0, 0),\n",
       "       datetime.datetime(2013, 10, 1, 0, 0),\n",
       "       datetime.datetime(2013, 11, 1, 0, 0),\n",
       "       datetime.datetime(2013, 12, 1, 0, 0),\n",
       "       datetime.datetime(2014, 1, 1, 0, 0),\n",
       "       datetime.datetime(2014, 2, 1, 0, 0),\n",
       "       datetime.datetime(2014, 3, 1, 0, 0),\n",
       "       datetime.datetime(2014, 4, 1, 0, 0),\n",
       "       datetime.datetime(2014, 5, 1, 0, 0),\n",
       "       datetime.datetime(2014, 6, 1, 0, 0),\n",
       "       datetime.datetime(2014, 7, 1, 0, 0),\n",
       "       datetime.datetime(2014, 8, 1, 0, 0),\n",
       "       datetime.datetime(2014, 9, 1, 0, 0),\n",
       "       datetime.datetime(2014, 10, 1, 0, 0),\n",
       "       datetime.datetime(2014, 11, 1, 0, 0),\n",
       "       datetime.datetime(2014, 12, 1, 0, 0),\n",
       "       datetime.datetime(2015, 1, 1, 0, 0),\n",
       "       datetime.datetime(2015, 2, 1, 0, 0),\n",
       "       datetime.datetime(2015, 3, 1, 0, 0),\n",
       "       datetime.datetime(2015, 4, 1, 0, 0),\n",
       "       datetime.datetime(2015, 5, 1, 0, 0),\n",
       "       datetime.datetime(2015, 6, 1, 0, 0),\n",
       "       datetime.datetime(2015, 7, 1, 0, 0),\n",
       "       datetime.datetime(2015, 8, 1, 0, 0),\n",
       "       datetime.datetime(2015, 9, 1, 0, 0),\n",
       "       datetime.datetime(2015, 10, 1, 0, 0),\n",
       "       datetime.datetime(2015, 11, 1, 0, 0),\n",
       "       datetime.datetime(2015, 12, 1, 0, 0),\n",
       "       datetime.datetime(2016, 1, 1, 0, 0),\n",
       "       datetime.datetime(2016, 2, 1, 0, 0),\n",
       "       datetime.datetime(2016, 3, 1, 0, 0),\n",
       "       datetime.datetime(2016, 4, 1, 0, 0),\n",
       "       datetime.datetime(2016, 5, 1, 0, 0),\n",
       "       datetime.datetime(2016, 6, 1, 0, 0),\n",
       "       datetime.datetime(2016, 7, 1, 0, 0),\n",
       "       datetime.datetime(2016, 8, 1, 0, 0),\n",
       "       datetime.datetime(2016, 9, 1, 0, 0),\n",
       "       datetime.datetime(2016, 10, 1, 0, 0),\n",
       "       datetime.datetime(2016, 11, 1, 0, 0),\n",
       "       datetime.datetime(2016, 12, 1, 0, 0),\n",
       "       datetime.datetime(2017, 1, 1, 0, 0),\n",
       "       datetime.datetime(2017, 2, 1, 0, 0),\n",
       "       datetime.datetime(2017, 3, 1, 0, 0),\n",
       "       datetime.datetime(2017, 4, 1, 0, 0),\n",
       "       datetime.datetime(2017, 5, 1, 0, 0),\n",
       "       datetime.datetime(2017, 6, 1, 0, 0),\n",
       "       datetime.datetime(2017, 7, 1, 0, 0),\n",
       "       datetime.datetime(2017, 8, 1, 0, 0),\n",
       "       datetime.datetime(2017, 9, 1, 0, 0),\n",
       "       datetime.datetime(2017, 10, 1, 0, 0),\n",
       "       datetime.datetime(2017, 11, 1, 0, 0),\n",
       "       datetime.datetime(2017, 12, 1, 0, 0),\n",
       "       datetime.datetime(2018, 1, 1, 0, 0),\n",
       "       datetime.datetime(2018, 2, 1, 0, 0),\n",
       "       datetime.datetime(2018, 3, 1, 0, 0),\n",
       "       datetime.datetime(2018, 4, 1, 0, 0),\n",
       "       datetime.datetime(2018, 5, 1, 0, 0),\n",
       "       datetime.datetime(2018, 6, 1, 0, 0),\n",
       "       datetime.datetime(2018, 7, 1, 0, 0),\n",
       "       datetime.datetime(2018, 8, 1, 0, 0),\n",
       "       datetime.datetime(2018, 9, 1, 0, 0),\n",
       "       datetime.datetime(2018, 10, 1, 0, 0),\n",
       "       datetime.datetime(2018, 11, 1, 0, 0),\n",
       "       datetime.datetime(2018, 12, 1, 0, 0),\n",
       "       datetime.datetime(2019, 1, 1, 0, 0),\n",
       "       datetime.datetime(2019, 2, 1, 0, 0),\n",
       "       datetime.datetime(2019, 3, 1, 0, 0),\n",
       "       datetime.datetime(2019, 4, 1, 0, 0),\n",
       "       datetime.datetime(2019, 5, 1, 0, 0),\n",
       "       datetime.datetime(2019, 6, 1, 0, 0),\n",
       "       datetime.datetime(2019, 7, 1, 0, 0),\n",
       "       datetime.datetime(2019, 8, 1, 0, 0),\n",
       "       datetime.datetime(2019, 9, 1, 0, 0),\n",
       "       datetime.datetime(2019, 10, 1, 0, 0)], dtype=object)"
      ]
     },
     "execution_count": 5,
     "metadata": {},
     "output_type": "execute_result"
    }
   ],
   "source": [
    "dates"
   ]
  },
  {
   "cell_type": "code",
   "execution_count": 14,
   "metadata": {},
   "outputs": [],
   "source": [
    "fullyear = np.where(dates<datetime(year=2019, month=1, day=1))[0]\n",
    "nyear = int(len(fullyear)/12)"
   ]
  },
  {
   "cell_type": "code",
   "execution_count": 15,
   "metadata": {},
   "outputs": [
    {
     "data": {
      "text/plain": [
       "852"
      ]
     },
     "execution_count": 15,
     "metadata": {},
     "output_type": "execute_result"
    }
   ],
   "source": [
    "len(fullyear)"
   ]
  },
  {
   "cell_type": "code",
   "execution_count": 16,
   "metadata": {},
   "outputs": [
    {
     "data": {
      "text/plain": [
       "array([  0,   1,   2,   3,   4,   5,   6,   7,   8,   9,  10,  11,  12,\n",
       "        13,  14,  15,  16,  17,  18,  19,  20,  21,  22,  23,  24,  25,\n",
       "        26,  27,  28,  29,  30,  31,  32,  33,  34,  35,  36,  37,  38,\n",
       "        39,  40,  41,  42,  43,  44,  45,  46,  47,  48,  49,  50,  51,\n",
       "        52,  53,  54,  55,  56,  57,  58,  59,  60,  61,  62,  63,  64,\n",
       "        65,  66,  67,  68,  69,  70,  71,  72,  73,  74,  75,  76,  77,\n",
       "        78,  79,  80,  81,  82,  83,  84,  85,  86,  87,  88,  89,  90,\n",
       "        91,  92,  93,  94,  95,  96,  97,  98,  99, 100, 101, 102, 103,\n",
       "       104, 105, 106, 107, 108, 109, 110, 111, 112, 113, 114, 115, 116,\n",
       "       117, 118, 119, 120, 121, 122, 123, 124, 125, 126, 127, 128, 129,\n",
       "       130, 131, 132, 133, 134, 135, 136, 137, 138, 139, 140, 141, 142,\n",
       "       143, 144, 145, 146, 147, 148, 149, 150, 151, 152, 153, 154, 155,\n",
       "       156, 157, 158, 159, 160, 161, 162, 163, 164, 165, 166, 167, 168,\n",
       "       169, 170, 171, 172, 173, 174, 175, 176, 177, 178, 179, 180, 181,\n",
       "       182, 183, 184, 185, 186, 187, 188, 189, 190, 191, 192, 193, 194,\n",
       "       195, 196, 197, 198, 199, 200, 201, 202, 203, 204, 205, 206, 207,\n",
       "       208, 209, 210, 211, 212, 213, 214, 215, 216, 217, 218, 219, 220,\n",
       "       221, 222, 223, 224, 225, 226, 227, 228, 229, 230, 231, 232, 233,\n",
       "       234, 235, 236, 237, 238, 239, 240, 241, 242, 243, 244, 245, 246,\n",
       "       247, 248, 249, 250, 251, 252, 253, 254, 255, 256, 257, 258, 259,\n",
       "       260, 261, 262, 263, 264, 265, 266, 267, 268, 269, 270, 271, 272,\n",
       "       273, 274, 275, 276, 277, 278, 279, 280, 281, 282, 283, 284, 285,\n",
       "       286, 287, 288, 289, 290, 291, 292, 293, 294, 295, 296, 297, 298,\n",
       "       299, 300, 301, 302, 303, 304, 305, 306, 307, 308, 309, 310, 311,\n",
       "       312, 313, 314, 315, 316, 317, 318, 319, 320, 321, 322, 323, 324,\n",
       "       325, 326, 327, 328, 329, 330, 331, 332, 333, 334, 335, 336, 337,\n",
       "       338, 339, 340, 341, 342, 343, 344, 345, 346, 347, 348, 349, 350,\n",
       "       351, 352, 353, 354, 355, 356, 357, 358, 359, 360, 361, 362, 363,\n",
       "       364, 365, 366, 367, 368, 369, 370, 371, 372, 373, 374, 375, 376,\n",
       "       377, 378, 379, 380, 381, 382, 383, 384, 385, 386, 387, 388, 389,\n",
       "       390, 391, 392, 393, 394, 395, 396, 397, 398, 399, 400, 401, 402,\n",
       "       403, 404, 405, 406, 407, 408, 409, 410, 411, 412, 413, 414, 415,\n",
       "       416, 417, 418, 419, 420, 421, 422, 423, 424, 425, 426, 427, 428,\n",
       "       429, 430, 431, 432, 433, 434, 435, 436, 437, 438, 439, 440, 441,\n",
       "       442, 443, 444, 445, 446, 447, 448, 449, 450, 451, 452, 453, 454,\n",
       "       455, 456, 457, 458, 459, 460, 461, 462, 463, 464, 465, 466, 467,\n",
       "       468, 469, 470, 471, 472, 473, 474, 475, 476, 477, 478, 479, 480,\n",
       "       481, 482, 483, 484, 485, 486, 487, 488, 489, 490, 491, 492, 493,\n",
       "       494, 495, 496, 497, 498, 499, 500, 501, 502, 503, 504, 505, 506,\n",
       "       507, 508, 509, 510, 511, 512, 513, 514, 515, 516, 517, 518, 519,\n",
       "       520, 521, 522, 523, 524, 525, 526, 527, 528, 529, 530, 531, 532,\n",
       "       533, 534, 535, 536, 537, 538, 539, 540, 541, 542, 543, 544, 545,\n",
       "       546, 547, 548, 549, 550, 551, 552, 553, 554, 555, 556, 557, 558,\n",
       "       559, 560, 561, 562, 563, 564, 565, 566, 567, 568, 569, 570, 571,\n",
       "       572, 573, 574, 575, 576, 577, 578, 579, 580, 581, 582, 583, 584,\n",
       "       585, 586, 587, 588, 589, 590, 591, 592, 593, 594, 595, 596, 597,\n",
       "       598, 599, 600, 601, 602, 603, 604, 605, 606, 607, 608, 609, 610,\n",
       "       611, 612, 613, 614, 615, 616, 617, 618, 619, 620, 621, 622, 623,\n",
       "       624, 625, 626, 627, 628, 629, 630, 631, 632, 633, 634, 635, 636,\n",
       "       637, 638, 639, 640, 641, 642, 643, 644, 645, 646, 647, 648, 649,\n",
       "       650, 651, 652, 653, 654, 655, 656, 657, 658, 659, 660, 661, 662,\n",
       "       663, 664, 665, 666, 667, 668, 669, 670, 671, 672, 673, 674, 675,\n",
       "       676, 677, 678, 679, 680, 681, 682, 683, 684, 685, 686, 687, 688,\n",
       "       689, 690, 691, 692, 693, 694, 695, 696, 697, 698, 699, 700, 701,\n",
       "       702, 703, 704, 705, 706, 707, 708, 709, 710, 711, 712, 713, 714,\n",
       "       715, 716, 717, 718, 719, 720, 721, 722, 723, 724, 725, 726, 727,\n",
       "       728, 729, 730, 731, 732, 733, 734, 735, 736, 737, 738, 739, 740,\n",
       "       741, 742, 743, 744, 745, 746, 747, 748, 749, 750, 751, 752, 753,\n",
       "       754, 755, 756, 757, 758, 759, 760, 761, 762, 763, 764, 765, 766,\n",
       "       767, 768, 769, 770, 771, 772, 773, 774, 775, 776, 777, 778, 779,\n",
       "       780, 781, 782, 783, 784, 785, 786, 787, 788, 789, 790, 791, 792,\n",
       "       793, 794, 795, 796, 797, 798, 799, 800, 801, 802, 803, 804, 805,\n",
       "       806, 807, 808, 809, 810, 811, 812, 813, 814, 815, 816, 817, 818,\n",
       "       819, 820, 821, 822, 823, 824, 825, 826, 827, 828, 829, 830, 831,\n",
       "       832, 833, 834, 835, 836, 837, 838, 839, 840, 841, 842, 843, 844,\n",
       "       845, 846, 847, 848, 849, 850, 851])"
      ]
     },
     "execution_count": 16,
     "metadata": {},
     "output_type": "execute_result"
    }
   ],
   "source": [
    "fullyear"
   ]
  },
  {
   "cell_type": "code",
   "execution_count": 18,
   "metadata": {},
   "outputs": [
    {
     "ename": "IndexError",
     "evalue": "index 1 is out of bounds for axis 0 with size 1",
     "output_type": "error",
     "traceback": [
      "\u001b[0;31m---------------------------------------------------------------------------\u001b[0m",
      "\u001b[0;31mIndexError\u001b[0m                                Traceback (most recent call last)",
      "\u001b[0;32m<ipython-input-18-1c2b391a0142>\u001b[0m in \u001b[0;36m<module>\u001b[0;34m\u001b[0m\n\u001b[0;32m----> 1\u001b[0;31m \u001b[0mt2m\u001b[0m \u001b[0;34m=\u001b[0m \u001b[0mt2m\u001b[0m\u001b[0;34m[\u001b[0m\u001b[0mfullyear\u001b[0m\u001b[0;34m,\u001b[0m \u001b[0;34m:\u001b[0m\u001b[0;34m,\u001b[0m \u001b[0;34m:\u001b[0m\u001b[0;34m]\u001b[0m\u001b[0;34m\u001b[0m\u001b[0;34m\u001b[0m\u001b[0m\n\u001b[0m\u001b[1;32m      2\u001b[0m \u001b[0mdates\u001b[0m \u001b[0;34m=\u001b[0m \u001b[0mdates\u001b[0m\u001b[0;34m[\u001b[0m\u001b[0mfullyear\u001b[0m\u001b[0;34m]\u001b[0m\u001b[0;34m\u001b[0m\u001b[0;34m\u001b[0m\u001b[0m\n",
      "\u001b[0;32m~/anaconda2/envs/py3/lib/python3.6/site-packages/numpy/ma/core.py\u001b[0m in \u001b[0;36m__getitem__\u001b[0;34m(self, indx)\u001b[0m\n\u001b[1;32m   3170\u001b[0m         \u001b[0;31m# mask of being reshaped if it hasn't been set up properly yet\u001b[0m\u001b[0;34m\u001b[0m\u001b[0;34m\u001b[0m\u001b[0;34m\u001b[0m\u001b[0m\n\u001b[1;32m   3171\u001b[0m         \u001b[0;31m# So it's easier to stick to the current version\u001b[0m\u001b[0;34m\u001b[0m\u001b[0;34m\u001b[0m\u001b[0;34m\u001b[0m\u001b[0m\n\u001b[0;32m-> 3172\u001b[0;31m         \u001b[0mdout\u001b[0m \u001b[0;34m=\u001b[0m \u001b[0mself\u001b[0m\u001b[0;34m.\u001b[0m\u001b[0mdata\u001b[0m\u001b[0;34m[\u001b[0m\u001b[0mindx\u001b[0m\u001b[0;34m]\u001b[0m\u001b[0;34m\u001b[0m\u001b[0;34m\u001b[0m\u001b[0m\n\u001b[0m\u001b[1;32m   3173\u001b[0m         \u001b[0m_mask\u001b[0m \u001b[0;34m=\u001b[0m \u001b[0mself\u001b[0m\u001b[0;34m.\u001b[0m\u001b[0m_mask\u001b[0m\u001b[0;34m\u001b[0m\u001b[0;34m\u001b[0m\u001b[0m\n\u001b[1;32m   3174\u001b[0m \u001b[0;34m\u001b[0m\u001b[0m\n",
      "\u001b[0;31mIndexError\u001b[0m: index 1 is out of bounds for axis 0 with size 1"
     ]
    }
   ],
   "source": [
    "t2m = t2m[fullyear, :, :]\n",
    "dates = dates[fullyear]"
   ]
  },
  {
   "cell_type": "markdown",
   "metadata": {},
   "source": [
    "2)  reorganizaos los datos para tener las dimensiones nyear x 12 x nlat x nlon"
   ]
  },
  {
   "cell_type": "code",
   "execution_count": 20,
   "metadata": {},
   "outputs": [],
   "source": [
    "nlon = len(lon)\n",
    "nlat = len(lat)\n",
    "t2m.shape = (nyear, 12, nlat, nlon)\n",
    "dates.shape = (nyear, 12)"
   ]
  },
  {
   "cell_type": "code",
   "execution_count": 21,
   "metadata": {},
   "outputs": [
    {
     "data": {
      "text/plain": [
       "((71, 12, 19, 25), 71.0, 71)"
      ]
     },
     "execution_count": 21,
     "metadata": {},
     "output_type": "execute_result"
    }
   ],
   "source": [
    "t2m.shape, 852./12"
   ]
  },
  {
   "cell_type": "code",
   "execution_count": 22,
   "metadata": {},
   "outputs": [
    {
     "data": {
      "text/plain": [
       "array([datetime.datetime(1948, 1, 1, 0, 0),\n",
       "       datetime.datetime(1948, 2, 1, 0, 0),\n",
       "       datetime.datetime(1948, 3, 1, 0, 0),\n",
       "       datetime.datetime(1948, 4, 1, 0, 0),\n",
       "       datetime.datetime(1948, 5, 1, 0, 0),\n",
       "       datetime.datetime(1948, 6, 1, 0, 0),\n",
       "       datetime.datetime(1948, 7, 1, 0, 0),\n",
       "       datetime.datetime(1948, 8, 1, 0, 0),\n",
       "       datetime.datetime(1948, 9, 1, 0, 0),\n",
       "       datetime.datetime(1948, 10, 1, 0, 0),\n",
       "       datetime.datetime(1948, 11, 1, 0, 0),\n",
       "       datetime.datetime(1948, 12, 1, 0, 0)], dtype=object)"
      ]
     },
     "execution_count": 22,
     "metadata": {},
     "output_type": "execute_result"
    }
   ],
   "source": [
    "dates[0,:]"
   ]
  },
  {
   "cell_type": "markdown",
   "metadata": {},
   "source": [
    "3) Hacemos la media por cada año"
   ]
  },
  {
   "cell_type": "code",
   "execution_count": 23,
   "metadata": {},
   "outputs": [],
   "source": [
    "clim = np.mean(t2m, axis = 0)"
   ]
  },
  {
   "cell_type": "code",
   "execution_count": 24,
   "metadata": {},
   "outputs": [],
   "source": [
    "climext = np.expand_dims(clim, axis=0).repeat(nyear, axis=0)"
   ]
  },
  {
   "cell_type": "code",
   "execution_count": 27,
   "metadata": {},
   "outputs": [
    {
     "data": {
      "text/plain": [
       "((1, 12, 19, 25), (12, 19, 25))"
      ]
     },
     "execution_count": 27,
     "metadata": {},
     "output_type": "execute_result"
    }
   ],
   "source": [
    "np.expand_dims(clim, axis=0).shape, clim.shape"
   ]
  },
  {
   "cell_type": "code",
   "execution_count": 13,
   "metadata": {},
   "outputs": [
    {
     "data": {
      "text/plain": [
       "(71, 12, 19, 25)"
      ]
     },
     "execution_count": 13,
     "metadata": {},
     "output_type": "execute_result"
    }
   ],
   "source": [
    "climext.shape"
   ]
  },
  {
   "cell_type": "markdown",
   "metadata": {},
   "source": [
    "4) Calculemos la anomalias"
   ]
  },
  {
   "cell_type": "code",
   "execution_count": 14,
   "metadata": {},
   "outputs": [],
   "source": [
    "anom = t2m - climext"
   ]
  },
  {
   "cell_type": "markdown",
   "metadata": {},
   "source": [
    "5) Comprovamos para un punto que lo hemos hecho bien"
   ]
  },
  {
   "cell_type": "code",
   "execution_count": 31,
   "metadata": {},
   "outputs": [
    {
     "data": {
      "text/plain": [
       "[<matplotlib.lines.Line2D at 0x7feb90168ba8>]"
      ]
     },
     "execution_count": 31,
     "metadata": {},
     "output_type": "execute_result"
    },
    {
     "data": {
      "image/png": "[encoded data removed]",
      "text/plain": [
       "<Figure size 432x288 with 1 Axes>"
      ]
     },
     "metadata": {
      "needs_background": "light"
     },
     "output_type": "display_data"
    }
   ],
   "source": [
    "import matplotlib.pyplot as plt\n",
    "%matplotlib inline\n",
    "lonpt = 15\n",
    "latpt = 10\n",
    "plt.plot(t2m[-20:,:,latpt,lonpt].flatten())\n",
    "plt.plot(climext[-20:,:,latpt,lonpt].flatten())"
   ]
  },
  {
   "cell_type": "code",
   "execution_count": 16,
   "metadata": {},
   "outputs": [
    {
     "data": {
      "text/plain": [
       "[<matplotlib.lines.Line2D at 0x7fb4543ea128>]"
      ]
     },
     "execution_count": 16,
     "metadata": {},
     "output_type": "execute_result"
    },
    {
     "data": {
      "image/png": "[encoded data removed]",
      "text/plain": [
       "<Figure size 432x288 with 1 Axes>"
      ]
     },
     "metadata": {
      "needs_background": "light"
     },
     "output_type": "display_data"
    }
   ],
   "source": [
    "plt.plot(anom[:,:,latpt,lonpt].flatten())"
   ]
  },
  {
   "cell_type": "code",
   "execution_count": 17,
   "metadata": {},
   "outputs": [
    {
     "data": {
      "text/plain": [
       "(array([0.02125078, 0.01062539, 0.        , 0.        , 0.        ,\n",
       "        0.        , 0.        , 0.        , 0.        , 0.        ,\n",
       "        0.01062539, 0.        , 0.01062539, 0.        , 0.        ,\n",
       "        0.        , 0.        , 0.02125078, 0.        , 0.01062539,\n",
       "        0.01062539, 0.01062539, 0.02125078, 0.02125078, 0.01062539,\n",
       "        0.01062541, 0.02125078, 0.05312695, 0.05312695, 0.09562851,\n",
       "        0.03187624, 0.03187617, 0.02125078, 0.05312695, 0.05312695,\n",
       "        0.08500312, 0.07437789, 0.05312695, 0.1062539 , 0.09562851,\n",
       "        0.12750482, 0.15938085, 0.14875546, 0.12750482, 0.2125078 ,\n",
       "        0.17000643, 0.2125078 , 0.11687935, 0.27626014, 0.18063173,\n",
       "        0.23375871, 0.3081364 , 0.22313325, 0.30813648, 0.23375866,\n",
       "        0.42501578, 0.31876183, 0.36126346, 0.297511  , 0.3081364 ,\n",
       "        0.31876188, 0.18063173, 0.30813631, 0.19125713, 0.20188241,\n",
       "        0.30813665, 0.1062539 , 0.13813007, 0.18063183, 0.11687929,\n",
       "        0.17000643, 0.14875546, 0.12750468, 0.09562851, 0.05312707,\n",
       "        0.08500312, 0.02125078, 0.14875546, 0.04250156, 0.06375234,\n",
       "        0.04250165, 0.07437773, 0.02125078, 0.03187617, 0.02125078,\n",
       "        0.01062539, 0.01062541, 0.02125078, 0.02125078, 0.01062539,\n",
       "        0.01062539, 0.        , 0.01062539, 0.        , 0.        ,\n",
       "        0.        , 0.        , 0.        , 0.        , 0.01062539]),\n",
       " array([-6.153561  , -6.0430984 , -5.932636  , -5.822173  , -5.7117105 ,\n",
       "        -5.601248  , -5.4907856 , -5.380323  , -5.2698603 , -5.1593976 ,\n",
       "        -5.048935  , -4.9384723 , -4.8280096 , -4.717547  , -4.6070843 ,\n",
       "        -4.4966216 , -4.386159  , -4.2756968 , -4.165234  , -4.0547714 ,\n",
       "        -3.9443088 , -3.833846  , -3.7233834 , -3.6129208 , -3.502458  ,\n",
       "        -3.3919954 , -3.281533  , -3.1710703 , -3.0606077 , -2.950145  ,\n",
       "        -2.8396823 , -2.72922   , -2.6187572 , -2.5082946 , -2.397832  ,\n",
       "        -2.2873693 , -2.1769066 , -2.0664442 , -1.9559815 , -1.8455188 ,\n",
       "        -1.7350562 , -1.6245936 , -1.514131  , -1.4036683 , -1.2932057 ,\n",
       "        -1.1827431 , -1.0722805 , -0.96181786, -0.85135525, -0.7408926 ,\n",
       "        -0.63043   , -0.5199674 , -0.40950474, -0.2990421 , -0.1885795 ,\n",
       "        -0.07811687,  0.03234575,  0.14280838,  0.25327098,  0.36373362,\n",
       "         0.47419626,  0.58465886,  0.69512147,  0.80558413,  0.91604674,\n",
       "         1.0265094 ,  1.136972  ,  1.2474346 ,  1.3578973 ,  1.4683598 ,\n",
       "         1.5788225 ,  1.689285  ,  1.7997477 ,  1.9102104 ,  2.020673  ,\n",
       "         2.1311355 ,  2.2415981 ,  2.3520608 ,  2.4625235 ,  2.5729861 ,\n",
       "         2.6834488 ,  2.7939112 ,  2.904374  ,  3.0148365 ,  3.1252992 ,\n",
       "         3.235762  ,  3.3462245 ,  3.456687  ,  3.5671496 ,  3.6776123 ,\n",
       "         3.788075  ,  3.8985376 ,  4.0090003 ,  4.119463  ,  4.2299256 ,\n",
       "         4.340388  ,  4.4508505 ,  4.561313  ,  4.671776  ,  4.7822385 ,\n",
       "         4.892701  ], dtype=float32),\n",
       " <a list of 100 Patch objects>)"
      ]
     },
     "execution_count": 17,
     "metadata": {},
     "output_type": "execute_result"
    },
    {
     "data": {
      "image/png": "[encoded data removed]",
      "text/plain": [
       "<Figure size 432x288 with 1 Axes>"
      ]
     },
     "metadata": {
      "needs_background": "light"
     },
     "output_type": "display_data"
    }
   ],
   "source": [
    "anomaux = anom[:,:,latpt,lonpt].flatten()\n",
    "mean, std = stats.norm.fit(anomaux)\n",
    "x = np.linspace(np.min(anomaux), np.max(anomaux), 2000)\n",
    "\n",
    "y = stats.norm.pdf(x,mean,std)\n",
    "\n",
    "plt.plot(x,y, color='coral')\n",
    "plt.hist(anomaux, 100, density=True)"
   ]
  },
  {
   "cell_type": "markdown",
   "metadata": {},
   "source": [
    "6) are the anomalies following a gaussian distribution\n"
   ]
  },
  {
   "cell_type": "code",
   "execution_count": 18,
   "metadata": {},
   "outputs": [
    {
     "data": {
      "text/plain": [
       "NormaltestResult(statistic=32.371203357373616, pvalue=9.347220863480985e-08)"
      ]
     },
     "execution_count": 18,
     "metadata": {},
     "output_type": "execute_result"
    }
   ],
   "source": [
    "stats.normaltest(anomaux, axis=0)"
   ]
  },
  {
   "cell_type": "markdown",
   "metadata": {},
   "source": [
    "En general buscamos pvalue < 0.05 o 0.01 (significant a 95% o 99%)"
   ]
  },
  {
   "cell_type": "code",
   "execution_count": 19,
   "metadata": {},
   "outputs": [
    {
     "data": {
      "text/plain": [
       "True"
      ]
     },
     "execution_count": 19,
     "metadata": {},
     "output_type": "execute_result"
    }
   ],
   "source": [
    "stats.normaltest(anomaux, axis=0).pvalue<0.01"
   ]
  },
  {
   "cell_type": "markdown",
   "metadata": {},
   "source": [
    "calcular la anomalias de temperatura en verano (JJA)"
   ]
  },
  {
   "cell_type": "code",
   "execution_count": 20,
   "metadata": {},
   "outputs": [],
   "source": [
    "anomJJA = np.mean(anom[:,[5,6,7],:,:], axis=1)"
   ]
  },
  {
   "cell_type": "markdown",
   "metadata": {},
   "source": [
    "Utilizando una regression linear calcular la tendencia de las temperaturas (https://realpython.com/linear-regression-in-python/)"
   ]
  },
  {
   "cell_type": "code",
   "execution_count": 21,
   "metadata": {},
   "outputs": [],
   "source": [
    "from sklearn.linear_model import LinearRegression\n",
    "# primero creamos el vector x que contiene todos los años\n",
    "x = np.arange(nyear)\n",
    "model = LinearRegression() # creamos una instancia de la classe linear regression\n",
    "# hacer el fit (los argumentos tienen que ser 2D, añadimos una dimension extra de talla 1)\n",
    "trend = np.array([LinearRegression().fit(x[:, np.newaxis], anomJJA[:,ilat,:]).coef_  for ilat in range(nlat)]).squeeze()"
   ]
  },
  {
   "cell_type": "markdown",
   "metadata": {},
   "source": [
    "Nos gustaria estimar si esta regrecion es significante y adequeda, por eso podemos utilizar una otra funcion de regresion linear."
   ]
  },
  {
   "cell_type": "code",
   "execution_count": 22,
   "metadata": {},
   "outputs": [],
   "source": [
    "#creamos dos arrays para guardar la trend, el score y la pvalue\n",
    "trend2 = np.zeros((nlat, nlon))\n",
    "r2 = np.zeros((nlat, nlon))\n",
    "pvalue = np.zeros((nlat, nlon))\n",
    "\n",
    "for ilat in range(nlat):\n",
    "    for ilon in range(nlon):\n",
    "        linreg = stats.linregress(x,anomJJA[:,ilat,ilon])\n",
    "        trend2[ilat, ilon] = linreg.slope\n",
    "        r2[ilat, ilon] = linreg.rvalue\n",
    "        pvalue[ilat, ilon] = linreg.pvalue\n",
    "        "
   ]
  },
  {
   "cell_type": "code",
   "execution_count": 23,
   "metadata": {},
   "outputs": [
    {
     "name": "stdout",
     "output_type": "stream",
     "text": [
      "3.469446951953614e-18 1.967605385971188e-16\n"
     ]
    }
   ],
   "source": [
    "#comparamos el resultado de los dos calculos\n",
    "normmax = np.max(trend2-trend) #norm infinita\n",
    "norm2 = np.sqrt(np.sum((trend2-trend)*(trend2-trend))) #norm cuadrada\n",
    "print(normmax, norm2)"
   ]
  },
  {
   "cell_type": "markdown",
   "metadata": {},
   "source": [
    "Haremos nuestro primer mapa:"
   ]
  },
  {
   "cell_type": "code",
   "execution_count": 24,
   "metadata": {},
   "outputs": [
    {
     "data": {
      "image/png": "[encoded data removed]",
      "text/plain": [
       "<Figure size 432x288 with 2 Axes>"
      ]
     },
     "metadata": {
      "needs_background": "light"
     },
     "output_type": "display_data"
    }
   ],
   "source": [
    "#import cartopy for plotting maps\n",
    "import cartopy.crs as ccrs\n",
    "#create a projection\n",
    "data_crs = ccrs.PlateCarree()\n",
    "#define a map\n",
    "ax = plt.axes(projection=ccrs.PlateCarree())\n",
    "#drw coastline\n",
    "ax.coastlines()\n",
    "#put longitude from -180 to 180\n",
    "lon[lon>180]=lon[lon>180]-360\n",
    "# create 2d lon lat\n",
    "lon2d, lat2d = np.meshgrid(lon, lat)\n",
    "#plot\n",
    "cs = ax.contourf(lon2d, lat2d, trend2, np.arange(6)/100., transform=data_crs, cmap=plt.cm.OrRd)\n",
    "#put dots where the p.value is significant\n",
    "signi = np.where(pvalue<0.01)\n",
    "ax.plot(lon2d[signi], lat2d[signi], linestyle='none', marker=\"o\", markersize=0.2)\n",
    "# drw color bar\n",
    "cbar = plt.colorbar(cs, orientation=\"horizontal\")"
   ]
  },
  {
   "cell_type": "markdown",
   "metadata": {},
   "source": [
    "para encontrar color bar: http://colorbrewer2.org/#type=sequential&scheme=BuGn&n=3"
   ]
  },
  {
   "cell_type": "markdown",
   "metadata": {},
   "source": [
    "hemos hecho regreciones sobre los años, para mirar la tendencia, pero tambien podemos hacer regrecion utilizando un indice climatico para enetender la relation entre dos phenomenos."
   ]
  },
  {
   "cell_type": "markdown",
   "metadata": {},
   "source": [
    "Leemos los datos de temperatura en la region El Niño.\n",
    "Para simplificar el problema, haremos aqui unas aproximaciones, primero utilizaremos la la air temperature en vez de la temperature de superficie del mar y despues haremos la media sin ponderar por el tamaño de los grid cell (es acceptable porque estamos cerca del equador en una grid regular)."
   ]
  },
  {
   "cell_type": "code",
   "execution_count": 25,
   "metadata": {},
   "outputs": [],
   "source": [
    "lon_bnds = [190, 240]\n",
    "lat_bnds = [-5, 5]\n",
    "urlbase = \"https://www.esrl.noaa.gov/psd/thredds/dodsC/Datasets/ncep.reanalysis.derived/surface/\"\n",
    "filename = urlbase+\"air.mon.mean.nc\" \n",
    "ENSO, dates, lonENSO, latENSO = readregion(filename, \"air\", lon_bnds, lat_bnds)"
   ]
  },
  {
   "cell_type": "code",
   "execution_count": 26,
   "metadata": {},
   "outputs": [],
   "source": [
    "fullyear = np.where(dates<datetime(year=2019, month=1, day=1))[0]\n",
    "nyear = int(len(fullyear)/12)"
   ]
  },
  {
   "cell_type": "code",
   "execution_count": 27,
   "metadata": {},
   "outputs": [],
   "source": [
    "#hacemos la media en longitude y latitude\n",
    "ENSO = np.mean(ENSO, axis=(1,2))\n",
    "#quitamos los años incompletos\n",
    "ENSO = ENSO[fullyear]\n",
    "#reorganizamos los datos en años x meses\n",
    "ENSO.shape = (nyear, 12)\n",
    "#calculamos la clim y la repetimos \n",
    "climENSO = np.expand_dims(np.mean(ENSO, axis=0), axis=0).repeat(nyear, axis=0)\n",
    "#anomalias\n",
    "anomENSO = ENSO - climENSO\n",
    "#media estaciona\n",
    "anomENSOJJA = np.mean(anomENSO[:,[5,6,7]], axis=1)"
   ]
  },
  {
   "cell_type": "code",
   "execution_count": 28,
   "metadata": {},
   "outputs": [],
   "source": [
    "#creamos dos arrays para guardar la trend, el score y la pvalue\n",
    "regENSO = np.zeros((nlat, nlon))\n",
    "r2ENSO = np.zeros((nlat, nlon))\n",
    "pvalueENSO = np.zeros((nlat, nlon))\n",
    "\n",
    "for ilat in range(nlat):\n",
    "    for ilon in range(nlon):\n",
    "        linreg = stats.linregress(anomENSOJJA,anomJJA[:,ilat,ilon])\n",
    "        regENSO[ilat, ilon] = linreg.slope\n",
    "        r2ENSO[ilat, ilon] = linreg.rvalue\n",
    "        pvalueENSO[ilat, ilon] = linreg.pvalue\n",
    "        "
   ]
  },
  {
   "cell_type": "code",
   "execution_count": 29,
   "metadata": {},
   "outputs": [
    {
     "data": {
      "image/png": "[encoded data removed]",
      "text/plain": [
       "<Figure size 432x288 with 2 Axes>"
      ]
     },
     "metadata": {
      "needs_background": "light"
     },
     "output_type": "display_data"
    }
   ],
   "source": [
    "#import cartopy for plotting maps\n",
    "import cartopy.crs as ccrs\n",
    "#create a projection\n",
    "data_crs = ccrs.PlateCarree()\n",
    "#define a map\n",
    "ax = plt.axes(projection=ccrs.PlateCarree())\n",
    "#drw coastline\n",
    "ax.coastlines()\n",
    "#put longitude from -180 to 180\n",
    "lon[lon>180]=lon[lon>180]-360\n",
    "# create 2d lon lat\n",
    "lon2d, lat2d = np.meshgrid(lon, lat)\n",
    "#plot\n",
    "cs = ax.contourf(lon2d, lat2d, regENSO, np.arange(9)/10., transform=data_crs, cmap=plt.cm.OrRd)\n",
    "#put dots where the p.value is significant\n",
    "signi = np.where(pvalueENSO<0.05)\n",
    "ax.plot(lon2d[signi], lat2d[signi], linestyle='none', marker=\"o\", markersize=0.2)\n",
    "# drw color bar\n",
    "cbar = plt.colorbar(cs, orientation=\"horizontal\")"
   ]
  },
  {
   "cell_type": "code",
   "execution_count": 30,
   "metadata": {},
   "outputs": [
    {
     "data": {
      "text/plain": [
       "0.7281335703960753"
      ]
     },
     "execution_count": 30,
     "metadata": {},
     "output_type": "execute_result"
    }
   ],
   "source": [
    "regENSO.max()"
   ]
  },
  {
   "cell_type": "code",
   "execution_count": null,
   "metadata": {},
   "outputs": [],
   "source": []
  }
 ],
 "metadata": {
  "kernelspec": {
   "display_name": "Python 3",
   "language": "python",
   "name": "python3"
  },
  "language_info": {
   "codemirror_mode": {
    "name": "ipython",
    "version": 3
   },
   "file_extension": ".py",
   "mimetype": "text/x-python",
   "name": "python",
   "nbconvert_exporter": "python",
   "pygments_lexer": "ipython3",
   "version": "3.6.9"
  }
 },
 "nbformat": 4,
 "nbformat_minor": 2
}
