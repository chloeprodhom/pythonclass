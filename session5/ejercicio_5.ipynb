{
 "cells": [
  {
   "cell_type": "markdown",
   "metadata": {},
   "source": [
    "He visto que dedicais demasiadas horas a las practicas. Recuerdo la regla intentais pasar un maximo de 2h.\n",
    "A partir de ahora, cambiamos un poco los criterios de avaluacion, hasta ahora yo miraba si funcionava, si habiais hecho el trabajo. Pero a partir de ahora intentaremos sobre todo programar \"bien\", es decir seguir las siguientes reglas:\n",
    "    - comentarios: codigo comentado para que se entienda, los comentarios tienen que ser presentes pero tambien ser concisos para evitar sobre caregar inutilmente el codigo\n",
    "    - nombre de variables explicito: elegir con cuidado los nombres de variable para que el codigo sea facil de entender\n",
    "    - Optimizacion: Intentaremos no hacer trabajar el ordenador inutilmente, es decir, utilizar numpy si es possible en ves de las loops, no hacer loops inutiles, no escribir lineas inutiles (por ejemplo incrementar el contador dentro de un for).\n",
    "    - simple es mejor que complicado: a veces mejor buscar un poco mas una manera sencilla y elegante de hacer las cosas es mejor que escribir toneladas de for, de if, y de while\n",
    "    - escribir funciones: cuando teneis que repetir una operacion varias veces, mejor hacer una funcion. No olvidar escribir la documentacion de la funciones\n",
    "    - Hardcoded prohibido: poner los numeros en variables, nunca hacer un print y copiar el valora mano. (excepto por los nombre de varible de los fichieros netcdf y para definir el rango de una figura).\n",
    "    - Control de error: Es mejor cuando se escriba una funcion pensar a comprovar que los arguementos esten bien, por ejemplo sus dimensiones, comprovar que los fichieros existen..."
   ]
  },
  {
   "cell_type": "markdown",
   "metadata": {},
   "source": [
    "Sigo poniendo 2 niveles de dificuldad y un tiempo estimado"
   ]
  },
  {
   "cell_type": "markdown",
   "metadata": {},
   "source": [
    "## Que controla la precipitaciones en hivierno?"
   ]
  },
  {
   "cell_type": "markdown",
   "metadata": {},
   "source": [
    "### Part 1 - Tendencia (facil - 7pt)"
   ]
  },
  {
   "cell_type": "markdown",
   "metadata": {},
   "source": [
    "1) Leer el fichiero de precipitacion de GPCP sobre Europa (https://www.esrl.noaa.gov/psd/data/gridded/data.gpcp.html). Utilizando el servidor Opendab o descargando el fichiero. Convertir los valores en mm/day. (tiempo max: 25min - 1 pt)"
   ]
  },
  {
   "cell_type": "code",
   "execution_count": null,
   "metadata": {},
   "outputs": [],
   "source": []
  },
  {
   "cell_type": "markdown",
   "metadata": {},
   "source": [
    "2) Escribir una funcion que calcula las anomalias y calcular las anomalias de precipitaciones (tiempo max: 30min - 2pt)"
   ]
  },
  {
   "cell_type": "code",
   "execution_count": null,
   "metadata": {},
   "outputs": [],
   "source": []
  },
  {
   "cell_type": "markdown",
   "metadata": {},
   "source": [
    "3) Calcular la media estacional de la precipitaciones en verano (June Julio Agosto) y hivierno (Decembre Enero Febrero, cuidado teneis que juntar los meses seguidos, por ejemplo Decembre 1993 con Enero 1994 y Febrero 1994) (30min - 2pt)"
   ]
  },
  {
   "cell_type": "code",
   "execution_count": null,
   "metadata": {},
   "outputs": [],
   "source": []
  },
  {
   "cell_type": "markdown",
   "metadata": {},
   "source": [
    "3) Calcular la tendencia de la precipitacion en verano y hiverno (30 min - 2 pt)"
   ]
  },
  {
   "cell_type": "code",
   "execution_count": null,
   "metadata": {},
   "outputs": [],
   "source": []
  },
  {
   "cell_type": "markdown",
   "metadata": {},
   "source": [
    "4) Hacer los mapas de la tendencia de precipitacion en hiverno y verano, incluendo la pvalue (40min - 3pt)"
   ]
  },
  {
   "cell_type": "code",
   "execution_count": null,
   "metadata": {},
   "outputs": [],
   "source": []
  },
  {
   "cell_type": "markdown",
   "metadata": {},
   "source": [
    "### Part 2 - NAO mes dificil (3pt)"
   ]
  },
  {
   "cell_type": "markdown",
   "metadata": {},
   "source": [
    "3) Leer los datos de geopotential para el calculo de la NAO https://www.youtube.com/watch?v=KOYJG7j4Iy8 - Norte punto alrededor de -25ºW, 65ºN y cara sur alrededor de -25ºW y 35ºN"
   ]
  },
  {
   "cell_type": "code",
   "execution_count": null,
   "metadata": {},
   "outputs": [],
   "source": []
  },
  {
   "cell_type": "markdown",
   "metadata": {},
   "source": [
    "4) Calcular las anomalies de los dos puntos de la NAO. \n"
   ]
  },
  {
   "cell_type": "code",
   "execution_count": null,
   "metadata": {},
   "outputs": [],
   "source": []
  },
  {
   "cell_type": "markdown",
   "metadata": {},
   "source": [
    "5) Normalizar las anomalies en los dos punto (es decir dividir por la deviation estandard) y hacer la differencia entre las dos series de anomalies - Asi teneis el indice de la NAO. "
   ]
  },
  {
   "cell_type": "code",
   "execution_count": null,
   "metadata": {},
   "outputs": [],
   "source": []
  },
  {
   "cell_type": "markdown",
   "metadata": {},
   "source": [
    "6) Calcular la media estacional de la NAO"
   ]
  },
  {
   "cell_type": "code",
   "execution_count": null,
   "metadata": {},
   "outputs": [],
   "source": []
  },
  {
   "cell_type": "markdown",
   "metadata": {},
   "source": [
    "7) Calcular la regression entre los el indice de NAO y los datos de temperatura en hivierno "
   ]
  },
  {
   "cell_type": "code",
   "execution_count": null,
   "metadata": {},
   "outputs": [],
   "source": []
  },
  {
   "cell_type": "markdown",
   "metadata": {},
   "source": [
    "8) Hacer el mapa (incluyendo la pvalue), escribir un pequeño comentario de los que podeis deducir de esta figura. (tiempo max: 20min, 1pt)"
   ]
  },
  {
   "cell_type": "code",
   "execution_count": null,
   "metadata": {},
   "outputs": [],
   "source": []
  }
 ],
 "metadata": {
  "kernelspec": {
   "display_name": "Python 3",
   "language": "python",
   "name": "python3"
  },
  "language_info": {
   "codemirror_mode": {
    "name": "ipython",
    "version": 3
   },
   "file_extension": ".py",
   "mimetype": "text/x-python",
   "name": "python",
   "nbconvert_exporter": "python",
   "pygments_lexer": "ipython3",
   "version": "3.6.9"
  }
 },
 "nbformat": 4,
 "nbformat_minor": 2
}
