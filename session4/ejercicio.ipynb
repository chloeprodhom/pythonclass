{
 "cells": [
  {
   "cell_type": "markdown",
   "metadata": {},
   "source": [
    "## Descargar datos - 1pts"
   ]
  },
  {
   "cell_type": "markdown",
   "metadata": {},
   "source": [
    "Buscar el la pargina https://www.esrl.noaa.gov/psd/data/gridded/data.ncep.reanalysis.derived.html, los datos mensuales de precipitations (prate) y temperatura (air temprature)\n",
    "\n",
    "Descaregar estos fichieros, y guardar los en una carpeta adecuada.\n",
    "\n"
   ]
  },
  {
   "cell_type": "markdown",
   "metadata": {},
   "source": [
    "## Temperatura - precip - 6pts - tiempo maximo 2h"
   ]
  },
  {
   "cell_type": "markdown",
   "metadata": {},
   "source": [
    "1) extraer los datos de precipitation y temperatura sobre europa (como teneis que hacer lo dos veces vuestro codigo quedara mejor si escribeis una funccion) "
   ]
  },
  {
   "cell_type": "code",
   "execution_count": null,
   "metadata": {},
   "outputs": [],
   "source": []
  },
  {
   "cell_type": "markdown",
   "metadata": {},
   "source": [
    "### Temperatura ERA5 - 3pt"
   ]
  },
  {
   "cell_type": "markdown",
   "metadata": {},
   "source": [
    "2) En esta pagina esta disponible la reanalysis ERA5 https://climate.copernicus.eu/climate-reanalysis, descarregar las temperaturas a dos metros mensual (2m temperature) y llegir estos datos sobre Europa"
   ]
  },
  {
   "cell_type": "code",
   "execution_count": null,
   "metadata": {},
   "outputs": [],
   "source": []
  },
  {
   "cell_type": "markdown",
   "metadata": {},
   "source": [
    "### Bonus - comparar la reanalysis NCEP y ERAinterim"
   ]
  },
  {
   "cell_type": "markdown",
   "metadata": {},
   "source": [
    "Comparar de la manera que os paresca mas adequada los datos de NCEP y ERA interim."
   ]
  },
  {
   "cell_type": "code",
   "execution_count": null,
   "metadata": {},
   "outputs": [],
   "source": []
  }
 ],
 "metadata": {
  "kernelspec": {
   "display_name": "Python 3",
   "language": "python",
   "name": "python3"
  },
  "language_info": {
   "codemirror_mode": {
    "name": "ipython",
    "version": 3
   },
   "file_extension": ".py",
   "mimetype": "text/x-python",
   "name": "python",
   "nbconvert_exporter": "python",
   "pygments_lexer": "ipython3",
   "version": "3.6.9"
  }
 },
 "nbformat": 4,
 "nbformat_minor": 2
}
