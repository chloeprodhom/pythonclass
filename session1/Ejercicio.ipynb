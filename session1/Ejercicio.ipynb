{
 "cells": [
  {
   "cell_type": "markdown",
   "metadata": {},
   "source": [
    "El ejercicio cuanta tres parte que van por niveles creciente de dificultat, segon vuestro nivel de programacion es possible que no podais hacerlo integralmente (y no pasa nada). Lo importante es hacer bien lo que consigais. La primera parte es accessible para todo el mundo, toda la informacion necesaria esta en el notebook de la clase (y de las clases anteriores), y vale 6 puntos asi que es suficiente para aprobar.\n",
    "\n",
    "Os aconsejo, poner os un limite de 2h para hacer este ejercicio (lo repito no hace falta hacer todo). Cada pregunta de la primera parte, tiene un tiempo maximo, si os pasais de este tiempo es que seguramente no habeis entendido algo fundamental, en este caso contactar conmigo.\n",
    "\n",
    "Por las preguntas de la parte dos y tres puede ser que tengais que buscar informacion en google, y pensar bastante. Si quiereis pasar mas de dos horas porque os gusta, porque quereis aprender mas, o porque quereis tener un 10 mas todo, porsupesto sois libre de hacerlo..."
   ]
  },
  {
   "cell_type": "markdown",
   "metadata": {},
   "source": [
    "# 0. Reading data (just run it)"
   ]
  },
  {
   "cell_type": "markdown",
   "metadata": {},
   "source": [
    "Los datos E-OBS son publicos solo necesitais registaros en la web para tener accesso: https://www.ecad.eu/download/ensembles/download.php\n",
    "\n",
    "Utilizaremos estos datos para analysar la ultima ola de calor en Barcelona.\n",
    "\n",
    "Aqui, por informacion os pongo el codigo que he utilizado para leer el fichiero que descargue en la web, veremos luego en otra clase como leer y escribir fichieros."
   ]
  },
  {
   "cell_type": "code",
   "execution_count": null,
   "metadata": {},
   "outputs": [],
   "source": [
    "#here are the line of code to extract the grid point of barcelona from the original file (just for your information)\n",
    "#import cdo as cdop\n",
    "#cdo=cdop.Cdo()\n",
    "#cdo.copy(input=\"-remapnn,lon=2.2_lat=41.4 tx_ens_mean_0.25deg_reg_v19.0e.nc bcn_time_serie.nc\", output=\"TmaxBCN.nc\")\n",
    "#cdo.showdate(input=\"TmaxBCN.nc\")"
   ]
  },
  {
   "cell_type": "code",
   "execution_count": null,
   "metadata": {},
   "outputs": [],
   "source": [
    "from netCDF4 import Dataset as nc #import netcdf library\n",
    "fileTmax = nc(\"TmaxBCN.nc\", \"r\") # open the netcdf file\n",
    "tmax = fileTmax.variables.get(\"tx\")[:] #read the variable\n",
    "TmaxBCN=list(tmax[:,0,0])\n",
    "fileTmax.close()"
   ]
  },
  {
   "cell_type": "code",
   "execution_count": null,
   "metadata": {},
   "outputs": [],
   "source": [
    "TmaxBCN"
   ]
  },
  {
   "cell_type": "markdown",
   "metadata": {},
   "source": [
    "# 1. Para practicar un poco (/6)"
   ]
  },
  {
   "cell_type": "markdown",
   "metadata": {},
   "source": [
    "### 1.1 Numero de dias calidos (Tiempo max: 30min)"
   ]
  },
  {
   "cell_type": "markdown",
   "metadata": {},
   "source": [
    "Contar el numero de dias que han superado 30 grados durante todo el periodo, y imprimir lo con una frase."
   ]
  },
  {
   "cell_type": "code",
   "execution_count": null,
   "metadata": {},
   "outputs": [],
   "source": []
  },
  {
   "cell_type": "markdown",
   "metadata": {},
   "source": [
    "deduir el numero medio por año de dia encima de 30 grados (la serie temporal que teneis va del 1950 al 2018)"
   ]
  },
  {
   "cell_type": "code",
   "execution_count": null,
   "metadata": {},
   "outputs": [],
   "source": []
  },
  {
   "cell_type": "markdown",
   "metadata": {},
   "source": [
    "### 1.2 Construir lista de fechas correspondiente a estos datos (tiempo max. 25min)"
   ]
  },
  {
   "cell_type": "markdown",
   "metadata": {},
   "source": [
    "Teneis la serie temporal diaria de las temperaturas observadas a les 12 (approx) del mediodia en Barcelona en 2019. (La temperatura del mediodia es la maxima dentro de esta dia por eso nos referimos a esa temperatura como Tmax.)\n",
    "\n",
    "Contruir la lista de fecha correspondiente a estos datos, es decir, construir una lista que tiene el mismo numero de elementos que la lista TmaxBCN, que contiene las fechas correspondiente a cada elemento. El primer elemento tiene la fecha: 1950-01-01."
   ]
  },
  {
   "cell_type": "code",
   "execution_count": null,
   "metadata": {},
   "outputs": [],
   "source": []
  },
  {
   "cell_type": "markdown",
   "metadata": {},
   "source": [
    "### 1.3 Encontrar el dia mas calido (tiempo max. 35min)"
   ]
  },
  {
   "cell_type": "markdown",
   "metadata": {},
   "source": [
    "Buscar el maximo de la lista Tmax (dia mas calido), y imprimir lo con una frase typo \"el dia mas calido ha sido el ?? de ?? de 20?? y la temperatura has sido: ?? grados C\""
   ]
  },
  {
   "cell_type": "code",
   "execution_count": null,
   "metadata": {},
   "outputs": [],
   "source": []
  },
  {
   "cell_type": "markdown",
   "metadata": {},
   "source": [
    "# 2. Mas dificil... (/2)"
   ]
  },
  {
   "cell_type": "markdown",
   "metadata": {},
   "source": [
    "### 2.1 Seleccionar las fechas del verano 2015 (tiempo max. 35min)"
   ]
  },
  {
   "cell_type": "markdown",
   "metadata": {},
   "source": [
    "Utilizando la lista de fecha que habeis construido, crear dos nuevas listas en las cuales guardareis las tempereratures del verano 2015 (entre 01-06-2015 y 01-09-2015)."
   ]
  },
  {
   "cell_type": "code",
   "execution_count": null,
   "metadata": {},
   "outputs": [],
   "source": []
  },
  {
   "cell_type": "markdown",
   "metadata": {},
   "source": [
    "### 2.2 Comptar el numero de dia calidos en 2015 "
   ]
  },
  {
   "cell_type": "markdown",
   "metadata": {},
   "source": [
    "Contar el numero de dias que han superado 30 grados durante el verano 2015, y imprimir lo con una frase y comparar con la media que habeis calculado en question 1.1"
   ]
  },
  {
   "cell_type": "code",
   "execution_count": null,
   "metadata": {},
   "outputs": [],
   "source": []
  },
  {
   "cell_type": "markdown",
   "metadata": {},
   "source": [
    "### 2.2 Calcular el percentile 90 (independiente de la 2.1)"
   ]
  },
  {
   "cell_type": "markdown",
   "metadata": {},
   "source": [
    "Calcular el percentile 90 del verano 2015 es decir la temperatura por la cual 10% de la temperaturas son mas grandes (i 90% mas pequeña). (Para hacer lo podeis utilizar la funccion `list.sort` o hacer un `for` dentro de un `for`)."
   ]
  },
  {
   "cell_type": "code",
   "execution_count": null,
   "metadata": {},
   "outputs": [],
   "source": []
  },
  {
   "cell_type": "markdown",
   "metadata": {},
   "source": [
    "# 3. Dificil (/1,5)"
   ]
  },
  {
   "cell_type": "markdown",
   "metadata": {},
   "source": [
    "### 3.1 Contar las onadas de calor"
   ]
  },
  {
   "cell_type": "markdown",
   "metadata": {},
   "source": [
    "Definimos una ola de calor como un episodio durante el cual como minimo 3 dias seguidos han superado 30 grados. Encontrar todas las olas de calor del verano 2015, calcular sus duraciones (numero de dias seguidos sobre 32 grados), y imprimir los con una frase typo : \"El dia ?? empeso una ola de calor que duro ?? dias\". \n",
    "(Para hacer esto tendreis que utilizar un `while` dentro de un `for`)."
   ]
  },
  {
   "cell_type": "code",
   "execution_count": null,
   "metadata": {},
   "outputs": [],
   "source": []
  },
  {
   "cell_type": "markdown",
   "metadata": {},
   "source": [
    "# 4. My dificil (/0.5)"
   ]
  },
  {
   "cell_type": "markdown",
   "metadata": {},
   "source": [
    "### 4.1 Comparar los veranos"
   ]
  },
  {
   "cell_type": "markdown",
   "metadata": {},
   "source": [
    "Ahora no gustaria saber como de extremo ha sido el verano pasado comparado con el pasado, por esto calcularemos el percentile 90 de todos los veranos de la serie initial. Basado en esto, miraremos que verano ha sido el mas calido (basandonos en el verano que tiene el percentile 90 mas grande). I miraremos como se situa el verano 2019. Imprimeremos un frase tipo: \"el verano ??? ha sido el mas calido, el verano 2015 ha sido el ?? mas calido\")"
   ]
  },
  {
   "cell_type": "code",
   "execution_count": null,
   "metadata": {},
   "outputs": [],
   "source": []
  }
 ],
 "metadata": {
  "kernelspec": {
   "display_name": "Python 3",
   "language": "python",
   "name": "python3"
  },
  "language_info": {
   "codemirror_mode": {
    "name": "ipython",
    "version": 3
   },
   "file_extension": ".py",
   "mimetype": "text/x-python",
   "name": "python",
   "nbconvert_exporter": "python",
   "pygments_lexer": "ipython3",
   "version": "3.6.9"
  }
 },
 "nbformat": 4,
 "nbformat_minor": 2
}
