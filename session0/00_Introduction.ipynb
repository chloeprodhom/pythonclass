{
 "cells": [
  {
   "cell_type": "markdown",
   "metadata": {
    "slideshow": {
     "slide_type": "slide"
    }
   },
   "source": [
    "# Jupyter tutorial"
   ]
  },
  {
   "cell_type": "markdown",
   "metadata": {
    "slideshow": {
     "slide_type": "fragment"
    }
   },
   "source": [
    "An introduction on how to use the Jupyter ecosystem to create data science"
   ]
  },
  {
   "cell_type": "markdown",
   "metadata": {
    "slideshow": {
     "slide_type": "fragment"
    }
   },
   "source": [
    "## The Fourth Paradigm of Science"
   ]
  },
  {
   "cell_type": "markdown",
   "metadata": {
    "slideshow": {
     "slide_type": "fragment"
    }
   },
   "source": [
    "You can clone this tutorial: \n",
    "```shell\n",
    "$ git clone https://github.com/cofinoa/jupyter-tutorial-bsc"
   ]
  },
  {
   "cell_type": "markdown",
   "metadata": {
    "slideshow": {
     "slide_type": "slide"
    }
   },
   "source": [
    "# Introduction\n",
    "Jupyter is one of the ideal tools to communicate science.\n",
    "\n",
    "With Jupyter notebooks you can **create and share documents** that contain **live code**, **equations**, **visualizations** and **text**"
   ]
  },
  {
   "cell_type": "markdown",
   "metadata": {
    "slideshow": {
     "slide_type": "slide"
    }
   },
   "source": [
    "# The HTML and HTTP invention: Sir Tim Bernes-Lee\n",
    "- > The HyperText Transfer Protocol and the HyperText Markup Language were created as a facility to **exchange information** such as results and comments from CERN experiments to the **scientific community**.\n"
   ]
  },
  {
   "cell_type": "markdown",
   "metadata": {
    "slideshow": {
     "slide_type": "fragment"
    }
   },
   "source": [
    "- The Jupyter ecosystem follows that idea and push forward it ... "
   ]
  },
  {
   "cell_type": "markdown",
   "metadata": {
    "slideshow": {
     "slide_type": "fragment"
    }
   },
   "source": [
    "- ... Jupyter ecosystem foundations are the modern web technology bring to scientists."
   ]
  },
  {
   "cell_type": "markdown",
   "metadata": {
    "slideshow": {
     "slide_type": "slide"
    }
   },
   "source": [
    "# What is a Jupyter notebook?\n",
    " - The term \"notebook\" or \"notebook documents\" denote documents that contain both code and rich text elements, \n",
    "     - such as figures, links, equations, \n",
    " - Because this mix, these documents are the ideal place to bring together an analysis description, and its results, as well as, they can be executed perform the data analysis in real time.\n"
   ]
  },
  {
   "cell_type": "markdown",
   "metadata": {
    "slideshow": {
     "slide_type": "slide"
    }
   },
   "source": [
    "# What means Jupyter?\n",
    "- \"Jupyter\" is a loose acronym meaning **Julia**, **Python**, and **R**. \n",
    "- These programming languages were the first target languages of the Jupyter application, but nowadays, the notebook technology also supports many other languages (i.e. [Jupyter Kernels](https://github.com/jupyter/jupyter/wiki/Jupyter-kernels). \n"
   ]
  },
  {
   "cell_type": "markdown",
   "metadata": {
    "slideshow": {
     "slide_type": "slide"
    }
   },
   "source": [
    "# Jupyter components\n",
    " - The main components of the whole environment are, \n",
    "     - The notebooks and the application. \n",
    "     - Notebook kernel and notebook dashboard."
   ]
  },
  {
   "cell_type": "markdown",
   "metadata": {
    "slideshow": {
     "slide_type": "slide"
    }
   },
   "source": [
    "# The Jupyter Notebook App\n",
    "\n",
    " - The \"Jupyter Notebook App\":\n",
    "   - produces these \"notebook documents\"\n",
    "   - allow to edit and run notebooks via a web browser\n",
    "   - can be executed on a PC without internet acces\n",
    "   - can be installed on a remote server\n",
    " - The two main components are the kernels and a dashboard"
   ]
  },
  {
   "cell_type": "markdown",
   "metadata": {
    "slideshow": {
     "slide_type": "slide"
    }
   },
   "source": [
    "# Jupyter kernel\n",
    "- A program that runs the user's code\n",
    "- The Jupyter Notebook App has a kernel for Python code\n",
    "- But many other languages are supported: [Jupyter Kernels](https://github.com/jupyter/jupyter/wiki/Jupyter-kernels)"
   ]
  },
  {
   "cell_type": "markdown",
   "metadata": {
    "slideshow": {
     "slide_type": "slide"
    }
   },
   "source": [
    "# Jupyter dashboard\n",
    "- Shows the notebook documents\n",
    "- Open, save and reopen them\n",
    "- Manages the kernels: run & shutdown"
   ]
  },
  {
   "cell_type": "markdown",
   "metadata": {
    "slideshow": {
     "slide_type": "slide"
    }
   },
   "source": [
    "# The history\n",
    "- To understand what is Jupyter and functionality it has to offer, it's good to know its origin\n",
    "  - 1980s Guido Van Rossum begins to work on Python at the NRI for Mathematics and Computer Science (NL) ....... too far on the past ...\n",
    "  - 2001 Fernando Perez starts to work on IPython\n",
    "  - 2005 Robert Kern and Fernando Perez work on a notebook system ... which it was never usable\n",
    "  - 2007 The IPython team reformulate the notebook system\n",
    "  - 2010 A prototype of a web notebook\n",
    "  - 2012 Incorporated on IPython 0.12\n",
    "  - 2014 Spin-off project from IPython\n",
    "  - 2018 Stable version of JupyterLab: The next generation of Jupyter Notebooks\n",
    "  "
   ]
  },
  {
   "cell_type": "markdown",
   "metadata": {
    "slideshow": {
     "slide_type": "slide"
    }
   },
   "source": [
    "# The pre-history\n",
    "- The concept of a notebook, which contains ordinary text and calculation and/or graphics, was definitely not new: \n",
    "  - *Mathematica* notebooks. Created on 1988. \n",
    "  - *Maple* worksheets\n",
    "  \n",
    "\n"
   ]
  }
 ],
 "metadata": {
  "celltoolbar": "Slideshow",
  "kernelspec": {
   "display_name": "Python 3",
   "language": "python",
   "name": "python3"
  },
  "language_info": {
   "codemirror_mode": {
    "name": "ipython",
    "version": 3
   },
   "file_extension": ".py",
   "mimetype": "text/x-python",
   "name": "python",
   "nbconvert_exporter": "python",
   "pygments_lexer": "ipython3",
   "version": "3.7.3"
  }
 },
 "nbformat": 4,
 "nbformat_minor": 2
}
