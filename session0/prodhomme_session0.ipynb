{
 "cells": [
  {
   "cell_type": "markdown",
   "metadata": {},
   "source": [
    "# Lets practice a litle (/6)"
   ]
  },
  {
   "cell_type": "markdown",
   "metadata": {},
   "source": [
    "1) Create two dictionares with the name of three of cyclone name as key and his formation and dissipation date as associated value Irma: 30/08/2017->14/09/2017, Maria: 16/09/2017->02/10/2017, Dorian: 24/08/2019->10/09/2019, "
   ]
  },
  {
   "cell_type": "code",
   "execution_count": 2,
   "metadata": {},
   "outputs": [],
   "source": [
    "import datetime \n",
    "dicFor = {\"Dorian\":datetime.datetime(year = 2019, month=8, day=24), \n",
    "       \"Irma\":datetime.datetime(year = 2017, month=8, day=30), \n",
    "       \"Maria\":datetime.datetime(year = 2017, month=9, day=16)}\n",
    "dicDiss = {\"Dorian\":datetime.datetime(year = 2019, month=9, day=10), \n",
    "       \"Irma\":datetime.datetime(year = 2017, month=9, day=14), \n",
    "       \"Maria\":datetime.datetime(year = 2017, month=10, day=2)}\n"
   ]
  },
  {
   "cell_type": "markdown",
   "metadata": {},
   "source": [
    "2) Using the name of the hurricane calculate his duration in days"
   ]
  },
  {
   "cell_type": "code",
   "execution_count": 3,
   "metadata": {},
   "outputs": [
    {
     "data": {
      "text/plain": [
       "datetime.timedelta(15)"
      ]
     },
     "execution_count": 3,
     "metadata": {},
     "output_type": "execute_result"
    }
   ],
   "source": [
    "name = \"Irma\"\n",
    "dicDiss.get(name) - dicFor.get(name) "
   ]
  },
  {
   "cell_type": "markdown",
   "metadata": {},
   "source": [
    "3) Write a sentence saying the date of formation and the duration of the huricane based on his name"
   ]
  },
  {
   "cell_type": "code",
   "execution_count": 4,
   "metadata": {},
   "outputs": [
    {
     "name": "stdout",
     "output_type": "stream",
     "text": [
      "The cyclone Irma formed the 30 August 2017 and dissipated the 14 September 2017\n",
      "His duration was 15 days\n"
     ]
    }
   ],
   "source": [
    "print(\"The cyclone \"+name+\" formed the \"+dicFor.get(name).strftime(\"%d %B %Y\")+\" and dissipated the \"+dicDiss.get(name).strftime(\"%d %B %Y\"))\n",
    "print(\"His duration was %i days\"%(dicDiss.get(name) - dicFor.get(name)).days)"
   ]
  },
  {
   "cell_type": "markdown",
   "metadata": {},
   "source": [
    "# A litle bit harder (/4)"
   ]
  },
  {
   "cell_type": "markdown",
   "metadata": {},
   "source": [
    "4) Store in a list the duration of the hurricanes"
   ]
  },
  {
   "cell_type": "code",
   "execution_count": 6,
   "metadata": {},
   "outputs": [
    {
     "data": {
      "text/plain": [
       "[17, 15, 16]"
      ]
     },
     "execution_count": 6,
     "metadata": {},
     "output_type": "execute_result"
    }
   ],
   "source": [
    "names = list(dicFor.keys())\n",
    "duration = []\n",
    "duration.append((dicDiss.get(names[0]) - dicFor.get(names[0])).days)\n",
    "duration.append((dicDiss.get(names[1]) - dicFor.get(names[1])).days)\n",
    "duration.append((dicDiss.get(names[2]) - dicFor.get(names[2])).days)\n",
    "duration"
   ]
  },
  {
   "cell_type": "markdown",
   "metadata": {},
   "source": [
    "5) Find the hurricane with the major duration (tip: you might need to convert your dictionary in two lists)"
   ]
  },
  {
   "cell_type": "code",
   "execution_count": 11,
   "metadata": {},
   "outputs": [
    {
     "name": "stdout",
     "output_type": "stream",
     "text": [
      "Dorian\n"
     ]
    }
   ],
   "source": [
    "indexlong = duration.index(max(duration))\n",
    "print(names[indexlong])"
   ]
  },
  {
   "cell_type": "markdown",
   "metadata": {},
   "source": [
    "6) Write a sentence giving the caracteristing of the hurricane that lasts the longuest "
   ]
  },
  {
   "cell_type": "code",
   "execution_count": 10,
   "metadata": {},
   "outputs": [
    {
     "name": "stdout",
     "output_type": "stream",
     "text": [
      "The cyclone Dorian formed the 24 August 2019 and dissipated the 10 September 2019\n",
      "His duration was 17 days\n"
     ]
    }
   ],
   "source": [
    "name=names[indexlong]\n",
    "print(\"The cyclone \"+name+\" formed the \"+dicFor.get(name).strftime(\"%d %B %Y\")+\" and dissipated the \"+dicDiss.get(name).strftime(\"%d %B %Y\"))\n",
    "print(\"His duration was %i days\"%(dicDiss.get(name) - dicFor.get(name)).days)"
   ]
  },
  {
   "cell_type": "code",
   "execution_count": null,
   "metadata": {},
   "outputs": [],
   "source": []
  }
 ],
 "metadata": {
  "kernelspec": {
   "display_name": "Python 3",
   "language": "python",
   "name": "python3"
  },
  "language_info": {
   "codemirror_mode": {
    "name": "ipython",
    "version": 3
   },
   "file_extension": ".py",
   "mimetype": "text/x-python",
   "name": "python",
   "nbconvert_exporter": "python",
   "pygments_lexer": "ipython3",
   "version": "3.6.9"
  }
 },
 "nbformat": 4,
 "nbformat_minor": 2
}
