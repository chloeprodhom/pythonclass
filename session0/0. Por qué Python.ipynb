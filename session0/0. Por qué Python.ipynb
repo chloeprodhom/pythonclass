{
 "cells": [
  {
   "cell_type": "markdown",
   "metadata": {
    "internals": {
     "slide_type": "subslide"
    },
    "slideshow": {
     "slide_type": "slide"
    }
   },
   "source": [
    "# ¿Por qué debería aprender Python?"
   ]
  },
  {
   "cell_type": "markdown",
   "metadata": {
    "internals": {
     "slide_helper": "subslide_end"
    },
    "slide_helper": "slide_end",
    "slideshow": {
     "slide_type": "fragment"
    }
   },
   "source": [
    "##Dr. David P. Sanders\n",
    "\n",
    "###Departamento de Física\n",
    "###Facultad de Ciencias, UNAM"
   ]
  },
  {
   "cell_type": "markdown",
   "metadata": {
    "internals": {
     "slide_type": "subslide"
    },
    "slideshow": {
     "slide_type": "slide"
    }
   },
   "source": [
    "# Python es un lenguaje de cómputo interpretado"
   ]
  },
  {
   "cell_type": "markdown",
   "metadata": {
    "internals": {},
    "slideshow": {
     "slide_type": "fragment"
    }
   },
   "source": [
    "- Funciona a través de un intérprete\n",
    "- Por lo tanto, se puede usar de forma *interactiva*"
   ]
  },
  {
   "cell_type": "markdown",
   "metadata": {
    "internals": {},
    "slideshow": {
     "slide_type": "fragment"
    }
   },
   "source": [
    "- Su sintaxis es sencillo y elegante"
   ]
  },
  {
   "cell_type": "markdown",
   "metadata": {
    "internals": {},
    "slideshow": {
     "slide_type": "fragment"
    }
   },
   "source": [
    "- Bueno, bonito y *barato*\n",
    "- Software libre, código abierto"
   ]
  },
  {
   "cell_type": "markdown",
   "metadata": {
    "internals": {
     "slide_helper": "subslide_end"
    },
    "slide_helper": "slide_end",
    "slideshow": {
     "slide_type": "fragment"
    }
   },
   "source": [
    "- Poderoso, por su *ecosistema* de librerías"
   ]
  },
  {
   "cell_type": "markdown",
   "metadata": {
    "internals": {
     "slide_type": "subslide"
    },
    "slideshow": {
     "slide_type": "slide"
    }
   },
   "source": [
    "# Python es versátil"
   ]
  },
  {
   "cell_type": "markdown",
   "metadata": {
    "internals": {},
    "slideshow": {
     "slide_type": "fragment"
    }
   },
   "source": [
    "## ¿Se puede hacer $X$ en Python? Sí, para cualquier $X$"
   ]
  },
  {
   "cell_type": "markdown",
   "metadata": {
    "internals": {},
    "slideshow": {
     "slide_type": "fragment"
    }
   },
   "source": [
    "E.g.\n",
    "\n",
    "- Bajar información de una página web\n",
    "- Manipular textos para extraer y crear información\n",
    "- Animar un mundo en 3D\n",
    "- Procesar datos numéricos gigantescos\n",
    "- Hacer gráficas de alta calidad para un artículo\n"
   ]
  },
  {
   "cell_type": "markdown",
   "metadata": {
    "internals": {},
    "slideshow": {
     "slide_type": "-"
    }
   },
   "source": [
    "# ¿Cuándo *no* debería utilizar Python?"
   ]
  },
  {
   "cell_type": "markdown",
   "metadata": {
    "internals": {
     "slide_helper": "subslide_end"
    },
    "slide_helper": "slide_end",
    "slideshow": {
     "slide_type": "fragment"
    }
   },
   "source": [
    "Se dice que es lento\n",
    "\n",
    "- lo es, para ciertos tipos de cálculos (bucles anidados)\n",
    "\n",
    "Hoy día hay soluciones para este problema (veremos algunos)\n",
    "\n",
    "Para todo lo demás, es una solución excelente"
   ]
  },
  {
   "cell_type": "markdown",
   "metadata": {
    "internals": {
     "slide_type": "subslide"
    },
    "slideshow": {
     "slide_type": "slide"
    }
   },
   "source": [
    "# ¿Cómo instalo Python?"
   ]
  },
  {
   "cell_type": "markdown",
   "metadata": {
    "internals": {
     "slide_helper": "subslide_end"
    },
    "slide_helper": "slide_end",
    "slideshow": {
     "slide_type": "fragment"
    }
   },
   "source": [
    "La manera más fácil es con una distribución de Python:\n",
    "\n",
    "- Continuum \"Anaconda\":  <https://store.continuum.io/cshop/anaconda/>\n",
    "\n",
    "- Enthought \"Canopy\": <https://www.enthought.com/products/canopy/>\n",
    "\n",
    "La alternativa es instalarlo a través de tu gestor de paquetes (`apt-get`, `brew`, etc.)"
   ]
  },
  {
   "cell_type": "markdown",
   "metadata": {
    "internals": {
     "slide_helper": "subslide_end",
     "slide_type": "subslide"
    },
    "slide_helper": "subslide_end",
    "slideshow": {
     "slide_type": "slide"
    }
   },
   "source": [
    "# ¿Cómo corro Python?"
   ]
  },
  {
   "cell_type": "markdown",
   "metadata": {
    "internals": {
     "slide_helper": "subslide_end",
     "slide_type": "subslide"
    },
    "slide_helper": "slide_end",
    "slideshow": {
     "slide_type": "subslide"
    }
   },
   "source": [
    "- Desde la línea de comandos:\n",
    "\n",
    "    `> python` \n",
    "    \n",
    "    (no recomendado para uso interactivo)\n",
    "\n",
    "\n",
    "- Uso interactivo desde la línea de comandos:\n",
    "\n",
    "    `> ipython`\n",
    "\n",
    "\n",
    "- Olvídate de la línea de comandos y entra en el siglo XXI:\n",
    "\n",
    "    `> ipython notebook`\n",
    "    \n"
   ]
  },
  {
   "cell_type": "markdown",
   "metadata": {
    "internals": {
     "slide_helper": "subslide_end",
     "slide_type": "subslide"
    },
    "slide_helper": "subslide_end",
    "slideshow": {
     "slide_type": "slide"
    }
   },
   "source": [
    "# ¿Por qué prefieres el IPython Notebook?"
   ]
  },
  {
   "cell_type": "markdown",
   "metadata": {
    "internals": {
     "slide_helper": "subslide_end",
     "slide_type": "subslide"
    },
    "slide_helper": "slide_end",
    "slideshow": {
     "slide_type": "subslide"
    }
   },
   "source": [
    "El IPython Notebook es una herramienta increíble que \n",
    "permite trabajar literalmente con un *cuaderno* computacional\n",
    "\n",
    "Un *notebook* puede incluir\n",
    "\n",
    "- Texto escrito con lenguaje de \"marcado\" Markdown\n",
    "- Ecuaciones escritas con $\\LaTeX$\n",
    "- Código fuente en Python y otros lenguajes\n",
    "- Resultados \n",
    "- Gráficas\n",
    "- Ligas a páginas web\n",
    "- Multimedia"
   ]
  },
  {
   "cell_type": "markdown",
   "metadata": {
    "internals": {
     "slide_type": "subslide"
    },
    "slideshow": {
     "slide_type": "slide"
    }
   },
   "source": [
    "# ¿Cuál es la estructura de un notebook?"
   ]
  },
  {
   "cell_type": "markdown",
   "metadata": {
    "slideshow": {
     "slide_type": "subslide"
    }
   },
   "source": [
    "Un notebook consiste en una secuencia de *celdas* de distintos tipos:\n",
    "\n",
    "- Texto (Markdown): `Ctrl-m m`\n",
    "- Código: `Ctrl-m y`\n",
    "- Encabezados: `Ctrl-m 1`, ..., `Ctrl-m 6`\n",
    "- Texto \"raw\" (crudo):  `Ctrl-m t`\n",
    "\n",
    "La colección completa de secuencias de teclas se puede\n",
    "consultar con    `Ctrl-m h`\n",
    "\n",
    "Las celdas se editan al hacer doble clic o teclear `Enter`"
   ]
  },
  {
   "cell_type": "markdown",
   "metadata": {
    "slideshow": {
     "slide_type": "slide"
    }
   },
   "source": [
    "# Resumen del curso"
   ]
  },
  {
   "cell_type": "markdown",
   "metadata": {
    "slideshow": {
     "slide_type": "subslide"
    }
   },
   "source": [
    "0. El IPython Notebook\n",
    "1. Sintaxis básico de Python\n",
    "2. Estructuras de control (loops and conditionals)\n",
    "3. funcciones\n",
    "4. Statistics\n",
    "5. Fichieros (NetCDFs, THREDDS)\n",
    "6. Libreria scientifica (Numpy, panda)\n",
    "7. Plotting\n",
    "8. Verificacion\n",
    "...."
   ]
  },
  {
   "cell_type": "code",
   "execution_count": null,
   "metadata": {},
   "outputs": [],
   "source": []
  }
 ],
 "metadata": {
  "kernelspec": {
   "display_name": "Python 2",
   "language": "python",
   "name": "python2"
  },
  "language_info": {
   "codemirror_mode": {
    "name": "ipython",
    "version": 2
   },
   "file_extension": ".py",
   "mimetype": "text/x-python",
   "name": "python",
   "nbconvert_exporter": "python",
   "pygments_lexer": "ipython2",
   "version": "2.7.15"
  }
 },
 "nbformat": 4,
 "nbformat_minor": 1
}
