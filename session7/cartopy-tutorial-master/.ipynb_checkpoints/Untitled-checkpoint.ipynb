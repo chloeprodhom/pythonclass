{
 "cells": [
  {
   "cell_type": "markdown",
   "metadata": {},
   "source": [
    "## Una imagen vale mil palabras"
   ]
  },
  {
   "cell_type": "markdown",
   "metadata": {},
   "source": [
    "Construir una grafica es el arte (si si arte!) de resumir una informacion enorme (varios años, variables, miembros, puntos) en un grafica de una manera:\n",
    "\n",
    "- sintetica\n",
    "- comprehensible\n",
    "- estetica\n",
    "\n",
    "Una \"buena\" figura necessita mucho tiempo i muchas fases preparatorias:\n",
    "- 1) question scientifica\n",
    "- 2) diseño de la analisis estatistica\n",
    "- 3) diseño de la figura \n",
    "- 4) exploracion de los datos (verificacion que son correctos en particular)\n",
    "- 5) analysis estatisca\n",
    "- 6) verificacion de la correctitud de la analysis\n",
    "- 7) figura illustrando los resultados\n",
    "- 8) interpretacion\n",
    "- 9) vuelta al punto 1 o 2 (unas cuantes veces)\n",
    "- 10) relfexion sobre el diseño de la figura (se puede sintetizar la informacion de una mejor manera?)\n",
    "- 11) vuelta al punto 3 (unas cuantes veces)\n",
    "- 12) mejora estetica de la figura (axis, titulo, colores....)\n",
    "\n",
    "En esta classe, hemos trabajado (un poco) hasta ahora los puntos 4, 5. En el proyecto trabajareis la resta de los puntos, hoy veremos unos poquitos ejemplos para el punto 3, 7 y 12. Pero teneis que tener claro, que en 2h, so sabreis todo lo que se puede hacer, i que muchissimo de vuestro trabajo consistira en buscar la informacion que os falta en internet."
   ]
  },
  {
   "cell_type": "markdown",
   "metadata": {},
   "source": [
    "## Typo de graficas "
   ]
  },
  {
   "cell_type": "markdown",
   "metadata": {},
   "source": [
    "### histograms "
   ]
  },
  {
   "cell_type": "markdown",
   "metadata": {},
   "source": [
    "### Scatter plots"
   ]
  },
  {
   "cell_type": "markdown",
   "metadata": {},
   "source": [
    "### Boxplots"
   ]
  },
  {
   "cell_type": "markdown",
   "metadata": {},
   "source": [
    "### Lines"
   ]
  },
  {
   "cell_type": "markdown",
   "metadata": {},
   "source": [
    "### Mapas "
   ]
  },
  {
   "cell_type": "markdown",
   "metadata": {},
   "source": [
    "## Multi panels"
   ]
  },
  {
   "cell_type": "markdown",
   "metadata": {},
   "source": [
    "## "
   ]
  },
  {
   "cell_type": "markdown",
   "metadata": {},
   "source": []
  }
 ],
 "metadata": {
  "kernelspec": {
   "display_name": "Python 3",
   "language": "python",
   "name": "python3"
  },
  "language_info": {
   "codemirror_mode": {
    "name": "ipython",
    "version": 3
   },
   "file_extension": ".py",
   "mimetype": "text/x-python",
   "name": "python",
   "nbconvert_exporter": "python",
   "pygments_lexer": "ipython3",
   "version": "3.6.7"
  }
 },
 "nbformat": 4,
 "nbformat_minor": 2
}
