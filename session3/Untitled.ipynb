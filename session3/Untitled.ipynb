{
 "cells": [
  {
   "cell_type": "code",
   "execution_count": 30,
   "metadata": {},
   "outputs": [],
   "source": [
    "from netCDF4 import Dataset as nc #import netcdf library\n",
    "from netCDF4 import num2date, date2num\n",
    "from datetime import date, timedelta\n",
    "import numpy as np\n",
    "fileTmax = nc(\"tx_ens_mean_0.25deg_reg_v19.0e.nc\", \"r\") # open the netcdf file"
   ]
  },
  {
   "cell_type": "code",
   "execution_count": 31,
   "metadata": {},
   "outputs": [
    {
     "data": {
      "text/plain": [
       "OrderedDict([('latitude', <class 'netCDF4._netCDF4.Variable'>\n",
       "              float64 latitude(latitude)\n",
       "                  units: degrees_north\n",
       "                  long_name: Latitude values\n",
       "                  axis: Y\n",
       "                  standard_name: latitude\n",
       "              unlimited dimensions: \n",
       "              current shape = (201,)\n",
       "              filling on, default _FillValue of 9.969209968386869e+36 used),\n",
       "             ('longitude', <class 'netCDF4._netCDF4.Variable'>\n",
       "              float64 longitude(longitude)\n",
       "                  units: degrees_east\n",
       "                  long_name: Longitude values\n",
       "                  axis: X\n",
       "                  standard_name: longitude\n",
       "              unlimited dimensions: \n",
       "              current shape = (464,)\n",
       "              filling on, default _FillValue of 9.969209968386869e+36 used),\n",
       "             ('time', <class 'netCDF4._netCDF4.Variable'>\n",
       "              int32 time(time)\n",
       "                  units: days since 1950-01-01 00:00\n",
       "                  long_name: Time in days\n",
       "                  calendar: standard\n",
       "                  standard_name: time\n",
       "              unlimited dimensions: time\n",
       "              current shape = (25202,)\n",
       "              filling on, default _FillValue of -2147483647 used),\n",
       "             ('tx', <class 'netCDF4._netCDF4.Variable'>\n",
       "              int16 tx(time, latitude, longitude)\n",
       "                  units: Celsius\n",
       "                  _FillValue: -9999\n",
       "                  long_name: maximum temperature\n",
       "                  scale_factor: 0.01\n",
       "                  add_offset: 0.0\n",
       "                  standard_name: air_temperature\n",
       "              unlimited dimensions: time\n",
       "              current shape = (25202, 201, 464)\n",
       "              filling on)])"
      ]
     },
     "execution_count": 31,
     "metadata": {},
     "output_type": "execute_result"
    }
   ],
   "source": [
    "fileTmax.variables"
   ]
  },
  {
   "cell_type": "code",
   "execution_count": 34,
   "metadata": {},
   "outputs": [],
   "source": [
    "tmax = fileTmax.variables.get(\"tx\")[60,:,:] #read the variable\n",
    "#TmaxBCN=np.array(tmax[:,0,0])\n",
    "#read time axis\n",
    "timevar=fileTmax.variables[\"time\"]\n",
    "dates = num2date(timevar[:], units=timevar.units) \n",
    "dates = np.array([date(d.year, d.month, d.day) for d in list(dates)])\n",
    "\n",
    "#fileTmax.close()"
   ]
  },
  {
   "cell_type": "code",
   "execution_count": 37,
   "metadata": {},
   "outputs": [
    {
     "data": {
      "text/plain": [
       "(13667, 13756)"
      ]
     },
     "execution_count": 37,
     "metadata": {},
     "output_type": "execute_result"
    }
   ],
   "source": [
    "d1 = date(1987,6,1)\n",
    "d2 = date(1987,9,1)\n",
    "\n",
    "posver = np.where((dates>d1)&(dates<d2))\n",
    "posver[0][1],posver[0][-1]"
   ]
  },
  {
   "cell_type": "code",
   "execution_count": 38,
   "metadata": {},
   "outputs": [],
   "source": [
    "tmax = fileTmax.variables.get(\"tx\")[posver[0][1]:posver[0][-1],:,:] #read the variable\n"
   ]
  },
  {
   "cell_type": "code",
   "execution_count": 21,
   "metadata": {},
   "outputs": [
    {
     "data": {
      "text/plain": [
       "<matplotlib.image.AxesImage at 0x7f7972a1a2e8>"
      ]
     },
     "execution_count": 21,
     "metadata": {},
     "output_type": "execute_result"
    },
    {
     "data": {
      "image/png": "[encoded data removed]",
      "text/plain": [
       "<Figure size 432x288 with 1 Axes>"
      ]
     },
     "metadata": {
      "needs_background": "light"
     },
     "output_type": "display_data"
    }
   ],
   "source": [
    "import matplotlib.pyplot as plt\n",
    "%matplotlib inline\n",
    "plt.imshow(tmax)"
   ]
  },
  {
   "cell_type": "code",
   "execution_count": null,
   "metadata": {},
   "outputs": [],
   "source": []
  }
 ],
 "metadata": {
  "kernelspec": {
   "display_name": "Python 3",
   "language": "python",
   "name": "python3"
  },
  "language_info": {
   "codemirror_mode": {
    "name": "ipython",
    "version": 3
   },
   "file_extension": ".py",
   "mimetype": "text/x-python",
   "name": "python",
   "nbconvert_exporter": "python",
   "pygments_lexer": "ipython3",
   "version": "3.6.9"
  }
 },
 "nbformat": 4,
 "nbformat_minor": 2
}
