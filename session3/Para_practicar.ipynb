{
 "cells": [
  {
   "cell_type": "markdown",
   "metadata": {},
   "source": [
    "Esta classe no estara evaluada, pero si que me gustaria pedir os que pasarais unas 2horas para assimiliar todo lo que hemos visto hoy.\n",
    "\n",
    "Aqui os prongo un ejercicio que basicamente es volver a hacer la classe, pero tomar el tiempo de hacer lo passo a passo y intentando entender lo que hacen los comandos."
   ]
  },
  {
   "cell_type": "markdown",
   "metadata": {},
   "source": [
    "Primeros, sino estans instalados en la terminal ejecutar los comandos siguientes:\n",
    "\n",
    "    conda install -c conda-forge scipy \n",
    "    \n",
    "    conda install -c anaconda pandas \n",
    "     \n",
    "    conda install -c anaconda numpy \n",
    "    \n",
    "    conda install -c conda-forge matplotlib \n",
    "    \n",
    "    conda install -c anaconda scikit-learn "
   ]
  },
  {
   "cell_type": "code",
   "execution_count": 1,
   "metadata": {},
   "outputs": [],
   "source": [
    "import numpy as np\n",
    "import pandas as pd\n",
    "from scipy import stats\n",
    "import matplotlib.pyplot as plt\n",
    "from sklearn.linear_model import LinearRegression"
   ]
  },
  {
   "cell_type": "code",
   "execution_count": 2,
   "metadata": {},
   "outputs": [],
   "source": [
    "from netCDF4 import Dataset as nc #import netcdf library\n",
    "fileTmax = nc(\"TmaxBCN.nc\", \"r\") # open the netcdf file\n",
    "tmax = fileTmax.variables.get(\"tx\")[:] #read the variable\n",
    "TmaxBCN=np.array(tmax[:,0,0])\n",
    "fileTmax.close()"
   ]
  },
  {
   "cell_type": "markdown",
   "metadata": {},
   "source": [
    "1) contar el numero de dias cuya temperatura es >37ºC"
   ]
  },
  {
   "cell_type": "code",
   "execution_count": null,
   "metadata": {},
   "outputs": [],
   "source": []
  },
  {
   "cell_type": "markdown",
   "metadata": {},
   "source": [
    "2) Estimar la distribucion gaussiana (fit) mas cercana a la distribucion de las temperaturas de barcelona"
   ]
  },
  {
   "cell_type": "code",
   "execution_count": null,
   "metadata": {},
   "outputs": [],
   "source": []
  },
  {
   "cell_type": "markdown",
   "metadata": {},
   "source": [
    "3) Calcular el ciclo estacional de las temperaturas diaries en BCN"
   ]
  },
  {
   "cell_type": "code",
   "execution_count": null,
   "metadata": {},
   "outputs": [],
   "source": []
  },
  {
   "cell_type": "markdown",
   "metadata": {},
   "source": [
    "4) Estimar las anomalias respecto al ciclo estacional"
   ]
  },
  {
   "cell_type": "code",
   "execution_count": null,
   "metadata": {},
   "outputs": [],
   "source": []
  },
  {
   "cell_type": "markdown",
   "metadata": {},
   "source": [
    "5) Estimar la distribucion gaussiana (fit) mas cercana a la distribucion de las anomalias de temperaturas de barcelona"
   ]
  },
  {
   "cell_type": "code",
   "execution_count": null,
   "metadata": {},
   "outputs": [],
   "source": []
  },
  {
   "cell_type": "markdown",
   "metadata": {},
   "source": [
    "6) Calcular los percentiles 5, 10, 20, 40, 60, 80,90, 95 de estas anomalias"
   ]
  },
  {
   "cell_type": "code",
   "execution_count": null,
   "metadata": {},
   "outputs": [],
   "source": []
  },
  {
   "cell_type": "markdown",
   "metadata": {},
   "source": [
    "7) calcular la media annual de la anomalias diarias"
   ]
  },
  {
   "cell_type": "code",
   "execution_count": null,
   "metadata": {},
   "outputs": [],
   "source": []
  },
  {
   "cell_type": "markdown",
   "metadata": {},
   "source": [
    "8) Estimar la tendencia"
   ]
  },
  {
   "cell_type": "code",
   "execution_count": null,
   "metadata": {},
   "outputs": [],
   "source": []
  },
  {
   "cell_type": "markdown",
   "metadata": {},
   "source": [
    "9) Quitar la tendencia de las anomalias"
   ]
  },
  {
   "cell_type": "code",
   "execution_count": null,
   "metadata": {},
   "outputs": [],
   "source": []
  },
  {
   "cell_type": "markdown",
   "metadata": {},
   "source": [
    "10) Hacer los ejercicio de la sesion 1 y 2 utilizando lo que habeis aprendido hoy."
   ]
  },
  {
   "cell_type": "code",
   "execution_count": null,
   "metadata": {},
   "outputs": [],
   "source": []
  }
 ],
 "metadata": {
  "kernelspec": {
   "display_name": "Python 3",
   "language": "python",
   "name": "python3"
  },
  "language_info": {
   "codemirror_mode": {
    "name": "ipython",
    "version": 3
   },
   "file_extension": ".py",
   "mimetype": "text/x-python",
   "name": "python",
   "nbconvert_exporter": "python",
   "pygments_lexer": "ipython3",
   "version": "3.6.9"
  }
 },
 "nbformat": 4,
 "nbformat_minor": 2
}
