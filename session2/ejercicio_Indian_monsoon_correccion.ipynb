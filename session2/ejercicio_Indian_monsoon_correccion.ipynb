{
 "cells": [
  {
   "cell_type": "markdown",
   "metadata": {},
   "source": [
    "El ejercicio cuanta tres parte que van por niveles creciente de dificultat, segon vuestro nivel de programacion es possible que no podais hacerlo integralmente (y no pasa nada). Lo importante es hacer bien lo que consigais. La primera parte es accessible para todo el mundo, toda la informacion necesaria esta en el notebook de la clase (y de las clases anteriores), y vale 6 puntos asi que es suficiente para aprobar.\n",
    "\n",
    "Os aconsejo, poner os un limite de 2h para hacer este ejercicio (lo repito no hace falta hacer todo). Cada pregunta de la primera parte, tiene un tiempo maximo, si os pasais de este tiempo es que seguramente no habeis entendido algo fundamental, en este caso contactar conmigo.\n",
    "\n",
    "Por las preguntas de la parte dos y tres puede ser que tengais que buscar informacion en google, y pensar bastante. Si quiereis pasar mas de dos horas porque os gusta, porque quereis aprender mas, o porque quereis tener un 10 mas todo, porsupesto sois libre de hacerlo..."
   ]
  },
  {
   "cell_type": "markdown",
   "metadata": {},
   "source": [
    "# 0. Reading data (just run it)"
   ]
  },
  {
   "cell_type": "code",
   "execution_count": 2,
   "metadata": {},
   "outputs": [],
   "source": [
    "import numpy as np\n",
    "from datetime import date, timedelta\n",
    "from dateutil.relativedelta import relativedelta\n",
    "from netCDF4 import Dataset, num2date, date2num\n",
    "import numpy.ma as ma\n",
    "import math"
   ]
  },
  {
   "cell_type": "markdown",
   "metadata": {},
   "source": [
    "Here we define two auxiliary function that are used to averaged spatially the data"
   ]
  },
  {
   "cell_type": "code",
   "execution_count": 3,
   "metadata": {},
   "outputs": [],
   "source": [
    "def extend_table(array, dims_expend):\n",
    "    \"\"\"function that extend the dimension of an array repeating it\n",
    "    array: an array containing the variable to be repeated\n",
    "    dims_expend: the dimension to be added\"\"\"\n",
    "    array_ext=array\n",
    "    dims_expend=list(dims_expend)\n",
    "    dims_expend.reverse()\n",
    "    for dim in dims_expend:\n",
    "        array_ext=np.expand_dims(array_ext, axis=0).repeat(dim, axis=0)\n",
    "        \n",
    "    return(array_ext)\n",
    "\n",
    "def area_av(array, pos_lat, pos_lon, lats, lons):\n",
    "    \"\"\"fonction computing the regional average\n",
    "    array: an array containing the variable to be averaged spatially\n",
    "    pos_lat: position of the latitude\n",
    "    pos_lon: position of the longitude\n",
    "    lats: latitude corresponding to the array\n",
    "    lons: longitude corresponding to the area\n",
    "    return: spatially averaged array\"\"\"\n",
    "\n",
    "    # Compute the delta lon and delta lat (difference bteween two points)  \n",
    "    dlon=list(lons[1:]-lons[:-1])\n",
    "    dlon.append(lons[-2]-lons[-1])\n",
    "    dlat=list(lats[1:]-lats[:-1])\n",
    "    dlat.append(lats[-2]-lats[-1])\n",
    "\n",
    "    #convert it in numpy array \n",
    "    dlon=np.array(dlon)%360 # apply modulo in case of difference >360\n",
    "    dlat=np.array(dlat)\n",
    "\n",
    "    \n",
    "    #extend the lats, and cos over all the dimensions\n",
    "    dim=array.shape   \n",
    "    dlon_ext=np.swapaxes(extend_table(dlon, np.delete(dim, pos_lon)), len(dim)-1, pos_lon)\n",
    "    dlat_ext=np.swapaxes(extend_table(dlat, np.delete(dim, pos_lat)), len(dim)-1, pos_lat)\n",
    "    coslat_ext=np.swapaxes(extend_table(np.cos(lats*math.pi/180), np.delete(dim, pos_lat)), \n",
    "                           len(dim)-1, pos_lat)\n",
    "                  \n",
    "    #create a weighted array \n",
    "    weights=ma.array(dlon_ext*dlat_ext*coslat_ext, mask=array.mask)\n",
    "    \n",
    "    #make the weighted sum\n",
    "    sumweigth=np.ma.sum(np.ma.sum(weights, axis=pos_lon),pos_lat) #also handled masked array\n",
    "    array_av = np.ma.sum(np.ma.sum(weights*array, axis=pos_lon),pos_lat)/sumweigth\n",
    "\n",
    "    array_av = np.ma.mean(np.ma.mean(array, axis=pos_lon),pos_lat)\n",
    "    return(array_av)"
   ]
  },
  {
   "cell_type": "markdown",
   "metadata": {},
   "source": [
    "We read data from a THREDDS or OPENDAB server, the advantge of the kind of data is that you can access directly the file without downloading it. You just download the subset of data you need (in the case precipitation over india)\n",
    "\n",
    "http://apdrc.soest.hawaii.edu/"
   ]
  },
  {
   "cell_type": "code",
   "execution_count": 4,
   "metadata": {},
   "outputs": [
    {
     "name": "stdout",
     "output_type": "stream",
     "text": [
      "We have now monthly precipitations over india from 01/01/1979 to 01/10/2015\n",
      "Stored in the variable varobs and the corresponding dates in the variable dates\n"
     ]
    }
   ],
   "source": [
    "# define the box for india\n",
    "lat_bnds = [5,25] \n",
    "lon_bnds = [70,90]\n",
    "varname=\"precip\" #sst\n",
    "# url of the THREDDS servers were precipitation product are (GPCP 2.2)\n",
    "url='http://apdrc.soest.hawaii.edu:80/dods/public_data/satellite_product/GPCP/monthly/v2.2_psg' \n",
    "\n",
    "#open ile\n",
    "varf = Dataset(url)\n",
    "\n",
    "#read longitude and latitude\n",
    "lats = varf.variables['lat'][:] \n",
    "lons = varf.variables['lon'][:]\n",
    "\n",
    "#select indices corresponding to the indian box\n",
    "lat_inds = np.where((lats > lat_bnds[0]) & (lats < lat_bnds[1]))[0]\n",
    "lon_inds = np.where((lons> lon_bnds[0]) & (lons < lon_bnds[1]))[0]\n",
    "    \n",
    "#read time axis\n",
    "timevar=varf.variables[\"time\"]\n",
    "dates = num2date(timevar[:], units=timevar.units) #, calendar=timevar.calendar)\n",
    "\n",
    "\n",
    "#download data subset\n",
    "varobs=varf.variables[varname][:,lat_inds,lon_inds]\n",
    "\n",
    "#close the file\n",
    "varf.close()\n",
    "\n",
    "#select corresponding latitude\n",
    "lats_reg=lats[lat_inds]\n",
    "lons_reg=lons[lon_inds]\n",
    "        \n",
    "    \n",
    "varobs = area_av(varobs, 1, 2, lats_reg, lons_reg)\n",
    "dates = dates\n",
    "\n",
    "print(\"We have now monthly precipitations over india from \"+dates[0].strftime(\"%d/%m/%Y\")+\" to \"+dates[-1].strftime(\"%d/%m/%Y\"))\n",
    "print(\"Stored in the variable varobs and the corresponding dates in the variable dates\")"
   ]
  },
  {
   "cell_type": "markdown",
   "metadata": {},
   "source": [
    "Convertimos los numpy array dates y varobs en list, los que conoceis numpy y quereis hacer la practica utilizando numpy no ejecutais esta celda (mejor borrar la). Si veis que la question puede ser respondida por una funcion existente en numpy podeis responder con la funcion numpy. No hace falta definir una nueva funcion."
   ]
  },
  {
   "cell_type": "code",
   "execution_count": 5,
   "metadata": {},
   "outputs": [],
   "source": [
    "dates = list(dates)\n",
    "varobs = list(varobs)"
   ]
  },
  {
   "cell_type": "markdown",
   "metadata": {},
   "source": [
    "# Para practicar (7pts)"
   ]
  },
  {
   "cell_type": "markdown",
   "metadata": {},
   "source": [
    "1) Escribir una funcion que calcula la media de una lista, utilizar la para calcular la media de precipitaciones en India. No olvidar escribir la description de la funcion. Utilizar esta funcion para calcular la precipitation media en India."
   ]
  },
  {
   "cell_type": "code",
   "execution_count": 6,
   "metadata": {},
   "outputs": [],
   "source": [
    "def meanlist(varobs):\n",
    "    \"\"\"Calcula la media de una lista\n",
    "    varobs: lista de valores\n",
    "    return: mean\"\"\"\n",
    "    sumaux = 0\n",
    "    for value in varobs:\n",
    "        sumaux = sumaux+value\n",
    "    return(sumaux/len(varobs))\n",
    "    "
   ]
  },
  {
   "cell_type": "code",
   "execution_count": 7,
   "metadata": {},
   "outputs": [],
   "source": [
    "meantot = meanlist(varobs)"
   ]
  },
  {
   "cell_type": "markdown",
   "metadata": {},
   "source": [
    "2) Escribir una funcion que seleciona un año concreto dentro de un lista de fechas y devuelve los indices correspondientes.  No olvidar escribir la description de la funcion."
   ]
  },
  {
   "cell_type": "code",
   "execution_count": 8,
   "metadata": {},
   "outputs": [],
   "source": [
    "def select_year(dates, year):\n",
    "    \"\"\"un año concreto dentro de un lista de fechas\n",
    "    dates: lista de fechas\n",
    "    year: año a seleccionar\n",
    "    return: indices correspondientes a year\"\"\"\n",
    "    ndate = len(dates)\n",
    "    indices = []\n",
    "    for i in range(ndate):\n",
    "        if dates[i].year == year:\n",
    "            indices.append(i)\n",
    "    return(indices)\n",
    "        \n",
    "    "
   ]
  },
  {
   "cell_type": "markdown",
   "metadata": {},
   "source": [
    "3) Escribir una funcion que seleciona unos indices dentro de una lista.  No olvidar escribir la description de la funcion. \n",
    "\n",
    "Ex:\n",
    "\n",
    "select_ind([5,6,7,8],[1,3]) devuelve [6,8]."
   ]
  },
  {
   "cell_type": "code",
   "execution_count": 9,
   "metadata": {},
   "outputs": [],
   "source": [
    "def select_ind(lista, indices):\n",
    "    \"\"\"Funcion que extrae unos indices de una lista\n",
    "    lista: lista original de la cual extremos lo indices que queremos\n",
    "    indices: position a extraer\"\"\"\n",
    "    newlist = []\n",
    "    for i in indices:\n",
    "        newlist.append(lista[i])\n",
    "        \n",
    "    return(newlist)"
   ]
  },
  {
   "cell_type": "markdown",
   "metadata": {},
   "source": [
    "4) Utilizando las funciones de la question 2 y 3, verificar que las dos funciones hacen lo que pensais."
   ]
  },
  {
   "cell_type": "code",
   "execution_count": 10,
   "metadata": {},
   "outputs": [
    {
     "data": {
      "text/plain": [
       "[real_datetime(2010, 1, 1, 0, 0),\n",
       " real_datetime(2010, 2, 1, 0, 0),\n",
       " real_datetime(2010, 3, 1, 0, 0),\n",
       " real_datetime(2010, 4, 1, 0, 0),\n",
       " real_datetime(2010, 5, 1, 0, 0),\n",
       " real_datetime(2010, 6, 1, 0, 0),\n",
       " real_datetime(2010, 7, 1, 0, 0),\n",
       " real_datetime(2010, 8, 1, 0, 0),\n",
       " real_datetime(2010, 9, 1, 0, 0),\n",
       " real_datetime(2010, 10, 1, 0, 0),\n",
       " real_datetime(2010, 11, 1, 0, 0),\n",
       " real_datetime(2010, 12, 1, 0, 0)]"
      ]
     },
     "execution_count": 10,
     "metadata": {},
     "output_type": "execute_result"
    }
   ],
   "source": [
    "ind2010 = select_year(dates, 2010)\n",
    "select_ind(dates,ind2010)"
   ]
  },
  {
   "cell_type": "markdown",
   "metadata": {},
   "source": [
    "3) Utilizar las funciones de la question 1 et 2, 3 para calcular la precipitation media en 2010"
   ]
  },
  {
   "cell_type": "code",
   "execution_count": 11,
   "metadata": {},
   "outputs": [
    {
     "data": {
      "text/plain": [
       "4.614367589354515"
      ]
     },
     "execution_count": 11,
     "metadata": {},
     "output_type": "execute_result"
    }
   ],
   "source": [
    "ind2010 = select_year(dates, 2010)\n",
    "meanlist(select_ind(varobs,ind2010))"
   ]
  },
  {
   "cell_type": "markdown",
   "metadata": {},
   "source": [
    "4) Escribir una funcion que coge en argumento un año, la lista de valor de la precipitation y las fechas y devuelve True o False segon si huvo mas o menos lluvia que la media durante este año y imprime una frase tipo \" el año ?? ha sido mas lluvioso que la media\". Utilizar la por el año 2009."
   ]
  },
  {
   "cell_type": "code",
   "execution_count": 12,
   "metadata": {},
   "outputs": [],
   "source": [
    "def compare_mean(year, varobs, dates):\n",
    "    \"\"\"Funcion compara un año con la media\n",
    "    year: año a comparar\n",
    "    varobs: lista de valores\n",
    "    dates: lista de fecha correspondiente a varobs\"\"\"\n",
    "    \n",
    "    mean = meanlist(varobs)\n",
    "    ind = select_year(dates, year)\n",
    "    meanyear = meanlist(select_ind(varobs,ind))\n",
    "    comp = meanyear>mean\n",
    "    if comp:\n",
    "        print(\"el año %i ha sido mas lluvioso que la media\"%year)\n",
    "    else:\n",
    "        print(\"el año %i ha sido menos lluvioso que la media\"%year)\n",
    "    return(comp)"
   ]
  },
  {
   "cell_type": "code",
   "execution_count": 13,
   "metadata": {},
   "outputs": [
    {
     "name": "stdout",
     "output_type": "stream",
     "text": [
      "el año 2009 ha sido menos lluvioso que la media\n"
     ]
    },
    {
     "data": {
      "text/plain": [
       "False"
      ]
     },
     "execution_count": 13,
     "metadata": {},
     "output_type": "execute_result"
    }
   ],
   "source": [
    "compare_mean(2009, varobs, dates)"
   ]
  },
  {
   "cell_type": "markdown",
   "metadata": {},
   "source": [
    "# Mas dificil (3pts)"
   ]
  },
  {
   "cell_type": "markdown",
   "metadata": {},
   "source": [
    "5) Escribir una funcion que selecciona los indices que coresponden a unos meses dentro de una lista de fechas."
   ]
  },
  {
   "cell_type": "code",
   "execution_count": 15,
   "metadata": {},
   "outputs": [],
   "source": [
    "def select_months(dates, months):\n",
    "    \"\"\"un año concreto dentro de un lista de fechas\n",
    "    dates: lista de fechas\n",
    "    year: año a seleccionar\n",
    "    return: indices correspondientes a year\"\"\"\n",
    "    ndate = len(dates)\n",
    "    indices = []\n",
    "    for i in range(ndate):\n",
    "        if dates[i].month in months:\n",
    "            indices.append(i)\n",
    "    return(indices)"
   ]
  },
  {
   "cell_type": "markdown",
   "metadata": {},
   "source": [
    "6) Calcular la media de las precipitaciones en los meses de Junio, Julio, Augosto, y estimar el percentage de la precipitation occure en verano (Junio-Julio-Agosto)"
   ]
  },
  {
   "cell_type": "code",
   "execution_count": 20,
   "metadata": {},
   "outputs": [],
   "source": [
    "monlst = [6,7,8]\n",
    "indJJA = select_months(dates, monlst)\n",
    "meanJJA = meanlist(select_ind(varobs,indJJA))"
   ]
  },
  {
   "cell_type": "code",
   "execution_count": 21,
   "metadata": {},
   "outputs": [
    {
     "data": {
      "text/plain": [
       "7.438181069520143"
      ]
     },
     "execution_count": 21,
     "metadata": {},
     "output_type": "execute_result"
    }
   ],
   "source": [
    "meanJJA"
   ]
  },
  {
   "cell_type": "code",
   "execution_count": 22,
   "metadata": {},
   "outputs": [
    {
     "data": {
      "text/plain": [
       "0.487758534869412"
      ]
     },
     "execution_count": 22,
     "metadata": {},
     "output_type": "execute_result"
    }
   ],
   "source": [
    "(meanJJA*len(monlst))/(meantot*12)"
   ]
  },
  {
   "cell_type": "markdown",
   "metadata": {},
   "source": [
    "7) Escribir una funcion que coge en argumento una lista de valor, la lista de fecha correspondientes, una lista de meses y calcula or cada año la media de precipitaciones que occuren durante estos meses"
   ]
  },
  {
   "cell_type": "code",
   "execution_count": 41,
   "metadata": {},
   "outputs": [],
   "source": [
    "def meanseas(varobs, dates, monlst):\n",
    "    \"\"\"calcular media estacional\n",
    "    - varobs: lista de valores\n",
    "    - dates: lista de fechas correspondiente a varobs\n",
    "    - monlst: lista de meses\n",
    "    - return: media estacional de varobs durante los meses monlst\"\"\"\n",
    "    indJJA = select_months(dates, monlst) #select month of interest\n",
    "    varJJA = select_ind(varobs,indJJA)  #select corrsponding values\n",
    "    datesJJA = select_ind(dates,indJJA) #select corrsponding values\n",
    "    year1 = dates[0].year\n",
    "    year2 = dates[-1].year\n",
    "    meanylist = []\n",
    "    # loop over the years\n",
    "    for year in range(year1, year2):\n",
    "        indyear = select_year(datesJJA, year)\n",
    "        meanJJAy = meanlist(select_ind(varJJA,indyear))\n",
    "        meanylist.append(meanJJAy)\n",
    "    return(meanylist)"
   ]
  },
  {
   "cell_type": "code",
   "execution_count": 42,
   "metadata": {},
   "outputs": [],
   "source": [
    "meanJJA = meanseas(varobs, dates, monlst)"
   ]
  },
  {
   "cell_type": "markdown",
   "metadata": {},
   "source": [
    "7) Calcular los 7 años mas y menos lluvioso"
   ]
  },
  {
   "cell_type": "code",
   "execution_count": 61,
   "metadata": {},
   "outputs": [],
   "source": [
    "meanJJA = meanseas(varobs, dates, monlst)\n",
    "meanJJAsort = list(meanJJA)\n",
    "meanJJAsort.sort()\n",
    "year1 = dates[0].year\n",
    "yearmin = []\n",
    "yearmax = []\n",
    "for i in range(7):\n",
    "    yearmin.append(meanJJA.index(meanJJAsort[i]) + year1)\n",
    "    yearmax.append(meanJJA.index(meanJJAsort[-i-1]) + year1)\n"
   ]
  },
  {
   "cell_type": "code",
   "execution_count": 62,
   "metadata": {},
   "outputs": [
    {
     "data": {
      "text/plain": [
       "[2002, 1979, 2001, 2004, 2009, 2012, 1987]"
      ]
     },
     "execution_count": 62,
     "metadata": {},
     "output_type": "execute_result"
    }
   ],
   "source": [
    "yearmin"
   ]
  },
  {
   "cell_type": "code",
   "execution_count": 63,
   "metadata": {},
   "outputs": [
    {
     "data": {
      "text/plain": [
       "[2010, 1994, 2007, 1996, 1980, 1988, 2011]"
      ]
     },
     "execution_count": 63,
     "metadata": {},
     "output_type": "execute_result"
    }
   ],
   "source": [
    "yearmax"
   ]
  },
  {
   "cell_type": "markdown",
   "metadata": {},
   "source": [
    "8bonus) Aixi a simple vista, pensais que hay un cambio en el monsoon relacionado 1) al cambio climatico 2) al fenomeno ENSO (ver la pagina web: https://ggweather.com/enso/oni.htm)"
   ]
  },
  {
   "cell_type": "markdown",
   "metadata": {},
   "source": [
    "It's dificult to relate changes without a robust statistic analysis, but we can say that 5/7 of the smallest monsoon occurs after 2000, which might suggest that the monsoon is decreasing with climate change. \n",
    "\n",
    "About the relacion with El Niño, almost all year with a minum/maximum monsoon are occuring simultaneously with a positive/negative El Niño."
   ]
  },
  {
   "cell_type": "code",
   "execution_count": null,
   "metadata": {},
   "outputs": [],
   "source": []
  },
  {
   "cell_type": "code",
   "execution_count": null,
   "metadata": {},
   "outputs": [],
   "source": []
  }
 ],
 "metadata": {
  "kernelspec": {
   "display_name": "Python 3",
   "language": "python",
   "name": "python3"
  },
  "language_info": {
   "codemirror_mode": {
    "name": "ipython",
    "version": 3
   },
   "file_extension": ".py",
   "mimetype": "text/x-python",
   "name": "python",
   "nbconvert_exporter": "python",
   "pygments_lexer": "ipython3",
   "version": "3.6.9"
  }
 },
 "nbformat": 4,
 "nbformat_minor": 2
}
