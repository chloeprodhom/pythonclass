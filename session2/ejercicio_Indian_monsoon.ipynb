{
 "cells": [
  {
   "cell_type": "markdown",
   "metadata": {},
   "source": [
    "El ejercicio cuanta tres parte que van por niveles creciente de dificultat, segon vuestro nivel de programacion es possible que no podais hacerlo integralmente (y no pasa nada). Lo importante es hacer bien lo que consigais. La primera parte es accessible para todo el mundo, toda la informacion necesaria esta en el notebook de la clase (y de las clases anteriores), y vale 6 puntos asi que es suficiente para aprobar.\n",
    "\n",
    "Os aconsejo, poner os un limite de 2h para hacer este ejercicio (lo repito no hace falta hacer todo). Cada pregunta de la primera parte, tiene un tiempo maximo, si os pasais de este tiempo es que seguramente no habeis entendido algo fundamental, en este caso contactar conmigo.\n",
    "\n",
    "Por las preguntas de la parte dos y tres puede ser que tengais que buscar informacion en google, y pensar bastante. Si quiereis pasar mas de dos horas porque os gusta, porque quereis aprender mas, o porque quereis tener un 10 mas todo, porsupesto sois libre de hacerlo..."
   ]
  },
  {
   "cell_type": "markdown",
   "metadata": {},
   "source": [
    "# 0. Reading data (just run it)"
   ]
  },
  {
   "cell_type": "code",
   "execution_count": 2,
   "metadata": {},
   "outputs": [],
   "source": [
    "import numpy as np\n",
    "from datetime import date, timedelta\n",
    "from dateutil.relativedelta import relativedelta\n",
    "from netCDF4 import Dataset, num2date, date2num\n",
    "import numpy.ma as ma\n",
    "import math"
   ]
  },
  {
   "cell_type": "markdown",
   "metadata": {},
   "source": [
    "Here we define two auxiliary function that are used to averaged spatially the data"
   ]
  },
  {
   "cell_type": "code",
   "execution_count": 3,
   "metadata": {},
   "outputs": [],
   "source": [
    "def extend_table(array, dims_expend):\n",
    "    \"\"\"function that extend the dimension of an array repeating it\n",
    "    array: an array containing the variable to be repeated\n",
    "    dims_expend: the dimension to be added\"\"\"\n",
    "    array_ext=array\n",
    "    dims_expend=list(dims_expend)\n",
    "    dims_expend.reverse()\n",
    "    for dim in dims_expend:\n",
    "        array_ext=np.expand_dims(array_ext, axis=0).repeat(dim, axis=0)\n",
    "        \n",
    "    return(array_ext)\n",
    "\n",
    "def area_av(array, pos_lat, pos_lon, lats, lons):\n",
    "    \"\"\"fonction computing the regional average\n",
    "    array: an array containing the variable to be averaged spatially\n",
    "    pos_lat: position of the latitude\n",
    "    pos_lon: position of the longitude\n",
    "    lats: latitude corresponding to the array\n",
    "    lons: longitude corresponding to the area\n",
    "    return: spatially averaged array\"\"\"\n",
    "\n",
    "    # Compute the delta lon and delta lat (difference bteween two points)  \n",
    "    dlon=list(lons[1:]-lons[:-1])\n",
    "    dlon.append(lons[-2]-lons[-1])\n",
    "    dlat=list(lats[1:]-lats[:-1])\n",
    "    dlat.append(lats[-2]-lats[-1])\n",
    "\n",
    "    #convert it in numpy array \n",
    "    dlon=np.array(dlon)%360 # apply modulo in case of difference >360\n",
    "    dlat=np.array(dlat)\n",
    "\n",
    "    \n",
    "    #extend the lats, and cos over all the dimensions\n",
    "    dim=array.shape   \n",
    "    dlon_ext=np.swapaxes(extend_table(dlon, np.delete(dim, pos_lon)), len(dim)-1, pos_lon)\n",
    "    dlat_ext=np.swapaxes(extend_table(dlat, np.delete(dim, pos_lat)), len(dim)-1, pos_lat)\n",
    "    coslat_ext=np.swapaxes(extend_table(np.cos(lats*math.pi/180), np.delete(dim, pos_lat)), \n",
    "                           len(dim)-1, pos_lat)\n",
    "                  \n",
    "    #create a weighted array \n",
    "    weights=ma.array(dlon_ext*dlat_ext*coslat_ext, mask=array.mask)\n",
    "    \n",
    "    #make the weighted sum\n",
    "    sumweigth=np.ma.sum(np.ma.sum(weights, axis=pos_lon),pos_lat) #also handled masked array\n",
    "    array_av = np.ma.sum(np.ma.sum(weights*array, axis=pos_lon),pos_lat)/sumweigth\n",
    "\n",
    "    array_av = np.ma.mean(np.ma.mean(array, axis=pos_lon),pos_lat)\n",
    "    return(array_av)"
   ]
  },
  {
   "cell_type": "markdown",
   "metadata": {},
   "source": [
    "We read data from a THREDDS or OPENDAB server, the advantge of the kind of data is that you can access directly the file without downloading it. You just download the subset of data you need (in the case precipitation over india)\n",
    "\n",
    "http://apdrc.soest.hawaii.edu/"
   ]
  },
  {
   "cell_type": "code",
   "execution_count": 4,
   "metadata": {},
   "outputs": [
    {
     "name": "stdout",
     "output_type": "stream",
     "text": [
      "We have now monthly precipitations over india from 01/01/1979 to 01/10/2015\n",
      "Stored in the variable varobs and the corresponding dates in the variable dates\n"
     ]
    }
   ],
   "source": [
    "# define the box for india\n",
    "lat_bnds = [5,25] \n",
    "lon_bnds = [70,90]\n",
    "varname=\"precip\" #sst\n",
    "# url of the THREDDS servers were precipitation product are (GPCP 2.2)\n",
    "url='http://apdrc.soest.hawaii.edu:80/dods/public_data/satellite_product/GPCP/monthly/v2.2_psg' \n",
    "\n",
    "#open ile\n",
    "varf = Dataset(url)\n",
    "\n",
    "#read longitude and latitude\n",
    "lats = varf.variables['lat'][:] \n",
    "lons = varf.variables['lon'][:]\n",
    "\n",
    "#select indices corresponding to the indian box\n",
    "lat_inds = np.where((lats > lat_bnds[0]) & (lats < lat_bnds[1]))[0]\n",
    "lon_inds = np.where((lons> lon_bnds[0]) & (lons < lon_bnds[1]))[0]\n",
    "    \n",
    "#read time axis\n",
    "timevar=varf.variables[\"time\"]\n",
    "dates = num2date(timevar[:], units=timevar.units) #, calendar=timevar.calendar)\n",
    "\n",
    "\n",
    "#download data subset\n",
    "varobs=varf.variables[varname][:,lat_inds,lon_inds]\n",
    "\n",
    "#close the file\n",
    "varf.close()\n",
    "\n",
    "#select corresponding latitude\n",
    "lats_reg=lats[lat_inds]\n",
    "lons_reg=lons[lon_inds]\n",
    "        \n",
    "# area average   \n",
    "varobs = area_av(varobs, 1, 2, lats_reg, lons_reg)\n",
    "\n",
    "print(\"We have now monthly precipitations over india from \"+dates[0].strftime(\"%d/%m/%Y\")+\" to \"+dates[-1].strftime(\"%d/%m/%Y\"))\n",
    "print(\"Stored in the variable varobs and the corresponding dates in the variable dates\")"
   ]
  },
  {
   "cell_type": "markdown",
   "metadata": {},
   "source": [
    "Convertimos los numpy array dates y varobs en list, los que conoceis numpy y quereis hacer la practica utilizando numpy no ejecutais esta celda (mejor borrar la). Si veis que la question puede ser respondida por una funcion existente en numpy podeis responder con la funcion numpy. No hace falta definir una nueva funcion."
   ]
  },
  {
   "cell_type": "code",
   "execution_count": 5,
   "metadata": {},
   "outputs": [],
   "source": [
    "dates = [date(d.year, d.month, d.day) for d in list(dates)]\n",
    "varobs = list(varobs)"
   ]
  },
  {
   "cell_type": "markdown",
   "metadata": {},
   "source": [
    "# Para practicar (7pts)"
   ]
  },
  {
   "cell_type": "markdown",
   "metadata": {},
   "source": [
    "1) Escribir una funcion que calcula la media de una lista, utilizar la para calcular la media de precipitaciones en India. No olvidar escribir la description de la funcion. Utilizar esta funcion para calcular la precipitation media en India."
   ]
  },
  {
   "cell_type": "code",
   "execution_count": null,
   "metadata": {},
   "outputs": [],
   "source": []
  },
  {
   "cell_type": "code",
   "execution_count": null,
   "metadata": {},
   "outputs": [],
   "source": []
  },
  {
   "cell_type": "markdown",
   "metadata": {},
   "source": [
    "2) Escribir una funcion que seleciona un año concreto dentro de un lista de fechas y devuelve los indices correspondientes.  No olvidar escribir la description de la funcion."
   ]
  },
  {
   "cell_type": "code",
   "execution_count": null,
   "metadata": {},
   "outputs": [],
   "source": []
  },
  {
   "cell_type": "markdown",
   "metadata": {},
   "source": [
    "3) Escribir una funcion que seleciona unos indices dentro de una lista.  No olvidar escribir la description de la funcion. \n",
    "\n",
    "Ex:\n",
    "\n",
    "select_ind([5,6,7,8],[1,3]) devuelve [6,8]."
   ]
  },
  {
   "cell_type": "code",
   "execution_count": null,
   "metadata": {},
   "outputs": [],
   "source": []
  },
  {
   "cell_type": "markdown",
   "metadata": {},
   "source": [
    "4) Utilizando las funciones de la question 2 y 3, verificar que las dos funciones hacen lo que pensais."
   ]
  },
  {
   "cell_type": "code",
   "execution_count": null,
   "metadata": {},
   "outputs": [],
   "source": []
  },
  {
   "cell_type": "markdown",
   "metadata": {},
   "source": [
    "3) Utilizar las funciones de la question 1 et 2, 3 para calcular la precipitation media en 2010"
   ]
  },
  {
   "cell_type": "code",
   "execution_count": null,
   "metadata": {},
   "outputs": [],
   "source": []
  },
  {
   "cell_type": "markdown",
   "metadata": {},
   "source": [
    "4) Escribir una funcion que coge en argumento un año, la lista de valor de la precipitation y las fechas y devuelve True o False segon si huvo mas o menos lluvia que la media durante este año y imprime una frase tipo \" el año ?? ha sido mas lluvioso que la media\". Utilizar la por el año 2009."
   ]
  },
  {
   "cell_type": "code",
   "execution_count": null,
   "metadata": {},
   "outputs": [],
   "source": []
  },
  {
   "cell_type": "markdown",
   "metadata": {},
   "source": [
    "# Mas dificil (3pts)"
   ]
  },
  {
   "cell_type": "markdown",
   "metadata": {},
   "source": [
    "5) Escribir una funcion que selecciona los indices que coresponden a unos meses dentro de una lista de fechas."
   ]
  },
  {
   "cell_type": "code",
   "execution_count": null,
   "metadata": {},
   "outputs": [],
   "source": []
  },
  {
   "cell_type": "markdown",
   "metadata": {},
   "source": [
    "6) Calcular la media de las precipitaciones en los meses de Junio, Julio, Augosto, y estimar el percentage de la precipitation occure en verano (Junio-Julio-Agosto)"
   ]
  },
  {
   "cell_type": "code",
   "execution_count": null,
   "metadata": {},
   "outputs": [],
   "source": []
  },
  {
   "cell_type": "markdown",
   "metadata": {},
   "source": [
    "7) Escribir una funcion que coge en argumento una lista de valor, la lista de fecha correspondientes, una lista de meses y calcula or cada año la media de precipitaciones que occuren durante estos meses"
   ]
  },
  {
   "cell_type": "code",
   "execution_count": null,
   "metadata": {},
   "outputs": [],
   "source": []
  },
  {
   "cell_type": "markdown",
   "metadata": {},
   "source": [
    "7) Calcular los 7 años mas y menos lluvioso"
   ]
  },
  {
   "cell_type": "code",
   "execution_count": null,
   "metadata": {},
   "outputs": [],
   "source": []
  },
  {
   "cell_type": "markdown",
   "metadata": {},
   "source": [
    "8bonus) Aixi a simple vista, pensais que hay un cambio en el monsoon relacionado 1) al cambio climatico 2) al fenomeno ENSO (ver la pagina web: https://ggweather.com/enso/oni.htm)"
   ]
  },
  {
   "cell_type": "markdown",
   "metadata": {},
   "source": [
    "It's dificult to relate changes without a robust statistic analysis, but we can say that 5/7 of the smallest monsoon occurs after 2000, which might suggest that the monsoon is decreasing with climate change. \n",
    "\n",
    "About the relacion with El Niño, almost all year with a minum/maximum monsoon are occuring simultaneously with a positive/negative El Niño."
   ]
  },
  {
   "cell_type": "code",
   "execution_count": null,
   "metadata": {},
   "outputs": [],
   "source": []
  }
 ],
 "metadata": {
  "kernelspec": {
   "display_name": "Python 3",
   "language": "python",
   "name": "python3"
  },
  "language_info": {
   "codemirror_mode": {
    "name": "ipython",
    "version": 3
   },
   "file_extension": ".py",
   "mimetype": "text/x-python",
   "name": "python",
   "nbconvert_exporter": "python",
   "pygments_lexer": "ipython3",
   "version": "3.6.9"
  }
 },
 "nbformat": 4,
 "nbformat_minor": 2
}
