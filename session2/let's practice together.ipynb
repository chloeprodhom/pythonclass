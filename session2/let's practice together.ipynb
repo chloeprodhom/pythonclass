{
 "cells": [
  {
   "cell_type": "markdown",
   "metadata": {},
   "source": [
    "We have dictionary with the name of three of cyclone name as key and his formation and dissipation date as associated value Irma: 30/08/2017->14/09/2017, Maria: 16/09/2017->02/10/2017, Dorian: 24/08/2019->10/09/2019, "
   ]
  },
  {
   "cell_type": "code",
   "execution_count": 1,
   "metadata": {},
   "outputs": [],
   "source": [
    "import datetime \n",
    "dicFor = {\"Dorian\":datetime.datetime(year = 2019, month=8, day=24), \n",
    "       \"Irma\":datetime.datetime(year = 2017, month=8, day=30), \n",
    "       \"Maria\":datetime.datetime(year = 2017, month=9, day=16)}\n",
    "dicDiss = {\"Dorian\":datetime.datetime(year = 2019, month=9, day=10), \n",
    "       \"Irma\":datetime.datetime(year = 2017, month=9, day=14), \n",
    "       \"Maria\":datetime.datetime(year = 2017, month=10, day=2)}\n"
   ]
  },
  {
   "cell_type": "markdown",
   "metadata": {},
   "source": [
    "2) Write a function that take the name of the hurricane as argument and return his duration in days"
   ]
  },
  {
   "cell_type": "code",
   "execution_count": null,
   "metadata": {},
   "outputs": [],
   "source": []
  },
  {
   "cell_type": "markdown",
   "metadata": {},
   "source": [
    "3) Write a procedure that take as argument the name of the cyclone and print a sentence saying the date of formation and the duration of the huricane based on his name"
   ]
  },
  {
   "cell_type": "code",
   "execution_count": null,
   "metadata": {},
   "outputs": [],
   "source": []
  }
 ],
 "metadata": {
  "kernelspec": {
   "display_name": "Python 3",
   "language": "python",
   "name": "python3"
  },
  "language_info": {
   "codemirror_mode": {
    "name": "ipython",
    "version": 3
   },
   "file_extension": ".py",
   "mimetype": "text/x-python",
   "name": "python",
   "nbconvert_exporter": "python",
   "pygments_lexer": "ipython3",
   "version": "3.6.9"
  }
 },
 "nbformat": 4,
 "nbformat_minor": 2
}
